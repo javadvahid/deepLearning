{
  "nbformat": 4,
  "nbformat_minor": 0,
  "metadata": {
    "colab": {
      "name": "ML-course-project3-logistic-regression_answered.ipynb",
      "provenance": [],
      "mount_file_id": "11m_YHw-zLFYTkvwBcJYtTwqxJjwAkfz3",
      "authorship_tag": "ABX9TyPBr7zQwovQBF6/L7XU9Hbx",
      "include_colab_link": true
    },
    "kernelspec": {
      "name": "python3",
      "display_name": "Python 3"
    },
    "language_info": {
      "name": "python"
    }
  },
  "cells": [
    {
      "cell_type": "markdown",
      "metadata": {
        "id": "view-in-github",
        "colab_type": "text"
      },
      "source": [
        "<a href=\"https://colab.research.google.com/github/javadvahid/deepLearning/blob/main/ML_course_project3_logistic_regression_answered.ipynb\" target=\"_parent\"><img src=\"https://colab.research.google.com/assets/colab-badge.svg\" alt=\"Open In Colab\"/></a>"
      ]
    },
    {
      "cell_type": "markdown",
      "source": [
        "# Logistic regression\n",
        "\n",
        "# رگرسیون لاجستیک(کلاسفیکیشن)\n",
        "\n",
        "در این پروژه هدف تشخیص قبول شدن یا قبول نشدن یک دانشجو بر اساس دو نمره ثبت شده می باشد\n",
        "\n",
        ":مشخصات دیتا\n",
        "\n",
        "دیتای ورودی : نمره دو امتحان\n",
        "\n",
        "دیتای خروجی : قبول شدن(1) یا قبول نشدن(0) دانشجو"
      ],
      "metadata": {
        "id": "kBOiSfZXZ_o7"
      }
    },
    {
      "cell_type": "code",
      "execution_count": null,
      "metadata": {
        "id": "74Jx5VbWYw6a",
        "colab": {
          "base_uri": "https://localhost:8080/",
          "height": 206
        },
        "outputId": "f1377a73-a91c-4220-fcb4-2352e012b872"
      },
      "outputs": [
        {
          "output_type": "execute_result",
          "data": {
            "text/plain": [
              "       exam1      exam2  passed?\n",
              "0  34.623660  78.024693        0\n",
              "1  30.286711  43.894998        0\n",
              "2  35.847409  72.902198        0\n",
              "3  60.182599  86.308552        1\n",
              "4  79.032736  75.344376        1"
            ],
            "text/html": [
              "\n",
              "  <div id=\"df-d16b5894-570f-4104-8c4a-1b1005249558\">\n",
              "    <div class=\"colab-df-container\">\n",
              "      <div>\n",
              "<style scoped>\n",
              "    .dataframe tbody tr th:only-of-type {\n",
              "        vertical-align: middle;\n",
              "    }\n",
              "\n",
              "    .dataframe tbody tr th {\n",
              "        vertical-align: top;\n",
              "    }\n",
              "\n",
              "    .dataframe thead th {\n",
              "        text-align: right;\n",
              "    }\n",
              "</style>\n",
              "<table border=\"1\" class=\"dataframe\">\n",
              "  <thead>\n",
              "    <tr style=\"text-align: right;\">\n",
              "      <th></th>\n",
              "      <th>exam1</th>\n",
              "      <th>exam2</th>\n",
              "      <th>passed?</th>\n",
              "    </tr>\n",
              "  </thead>\n",
              "  <tbody>\n",
              "    <tr>\n",
              "      <th>0</th>\n",
              "      <td>34.623660</td>\n",
              "      <td>78.024693</td>\n",
              "      <td>0</td>\n",
              "    </tr>\n",
              "    <tr>\n",
              "      <th>1</th>\n",
              "      <td>30.286711</td>\n",
              "      <td>43.894998</td>\n",
              "      <td>0</td>\n",
              "    </tr>\n",
              "    <tr>\n",
              "      <th>2</th>\n",
              "      <td>35.847409</td>\n",
              "      <td>72.902198</td>\n",
              "      <td>0</td>\n",
              "    </tr>\n",
              "    <tr>\n",
              "      <th>3</th>\n",
              "      <td>60.182599</td>\n",
              "      <td>86.308552</td>\n",
              "      <td>1</td>\n",
              "    </tr>\n",
              "    <tr>\n",
              "      <th>4</th>\n",
              "      <td>79.032736</td>\n",
              "      <td>75.344376</td>\n",
              "      <td>1</td>\n",
              "    </tr>\n",
              "  </tbody>\n",
              "</table>\n",
              "</div>\n",
              "      <button class=\"colab-df-convert\" onclick=\"convertToInteractive('df-d16b5894-570f-4104-8c4a-1b1005249558')\"\n",
              "              title=\"Convert this dataframe to an interactive table.\"\n",
              "              style=\"display:none;\">\n",
              "        \n",
              "  <svg xmlns=\"http://www.w3.org/2000/svg\" height=\"24px\"viewBox=\"0 0 24 24\"\n",
              "       width=\"24px\">\n",
              "    <path d=\"M0 0h24v24H0V0z\" fill=\"none\"/>\n",
              "    <path d=\"M18.56 5.44l.94 2.06.94-2.06 2.06-.94-2.06-.94-.94-2.06-.94 2.06-2.06.94zm-11 1L8.5 8.5l.94-2.06 2.06-.94-2.06-.94L8.5 2.5l-.94 2.06-2.06.94zm10 10l.94 2.06.94-2.06 2.06-.94-2.06-.94-.94-2.06-.94 2.06-2.06.94z\"/><path d=\"M17.41 7.96l-1.37-1.37c-.4-.4-.92-.59-1.43-.59-.52 0-1.04.2-1.43.59L10.3 9.45l-7.72 7.72c-.78.78-.78 2.05 0 2.83L4 21.41c.39.39.9.59 1.41.59.51 0 1.02-.2 1.41-.59l7.78-7.78 2.81-2.81c.8-.78.8-2.07 0-2.86zM5.41 20L4 18.59l7.72-7.72 1.47 1.35L5.41 20z\"/>\n",
              "  </svg>\n",
              "      </button>\n",
              "      \n",
              "  <style>\n",
              "    .colab-df-container {\n",
              "      display:flex;\n",
              "      flex-wrap:wrap;\n",
              "      gap: 12px;\n",
              "    }\n",
              "\n",
              "    .colab-df-convert {\n",
              "      background-color: #E8F0FE;\n",
              "      border: none;\n",
              "      border-radius: 50%;\n",
              "      cursor: pointer;\n",
              "      display: none;\n",
              "      fill: #1967D2;\n",
              "      height: 32px;\n",
              "      padding: 0 0 0 0;\n",
              "      width: 32px;\n",
              "    }\n",
              "\n",
              "    .colab-df-convert:hover {\n",
              "      background-color: #E2EBFA;\n",
              "      box-shadow: 0px 1px 2px rgba(60, 64, 67, 0.3), 0px 1px 3px 1px rgba(60, 64, 67, 0.15);\n",
              "      fill: #174EA6;\n",
              "    }\n",
              "\n",
              "    [theme=dark] .colab-df-convert {\n",
              "      background-color: #3B4455;\n",
              "      fill: #D2E3FC;\n",
              "    }\n",
              "\n",
              "    [theme=dark] .colab-df-convert:hover {\n",
              "      background-color: #434B5C;\n",
              "      box-shadow: 0px 1px 3px 1px rgba(0, 0, 0, 0.15);\n",
              "      filter: drop-shadow(0px 1px 2px rgba(0, 0, 0, 0.3));\n",
              "      fill: #FFFFFF;\n",
              "    }\n",
              "  </style>\n",
              "\n",
              "      <script>\n",
              "        const buttonEl =\n",
              "          document.querySelector('#df-d16b5894-570f-4104-8c4a-1b1005249558 button.colab-df-convert');\n",
              "        buttonEl.style.display =\n",
              "          google.colab.kernel.accessAllowed ? 'block' : 'none';\n",
              "\n",
              "        async function convertToInteractive(key) {\n",
              "          const element = document.querySelector('#df-d16b5894-570f-4104-8c4a-1b1005249558');\n",
              "          const dataTable =\n",
              "            await google.colab.kernel.invokeFunction('convertToInteractive',\n",
              "                                                     [key], {});\n",
              "          if (!dataTable) return;\n",
              "\n",
              "          const docLinkHtml = 'Like what you see? Visit the ' +\n",
              "            '<a target=\"_blank\" href=https://colab.research.google.com/notebooks/data_table.ipynb>data table notebook</a>'\n",
              "            + ' to learn more about interactive tables.';\n",
              "          element.innerHTML = '';\n",
              "          dataTable['output_type'] = 'display_data';\n",
              "          await google.colab.output.renderOutput(dataTable, element);\n",
              "          const docLink = document.createElement('div');\n",
              "          docLink.innerHTML = docLinkHtml;\n",
              "          element.appendChild(docLink);\n",
              "        }\n",
              "      </script>\n",
              "    </div>\n",
              "  </div>\n",
              "  "
            ]
          },
          "metadata": {},
          "execution_count": 78
        }
      ],
      "source": [
        "#load data set from a csv file\n",
        "# csv لود کردن داده های موجود از یک فایل\n",
        "# در اولین مرحله فایل مربوط به دیتای بخش اول را آپلود کنید\n",
        "#import pandas libaray for reading a csv file\n",
        "# به برنامه pandas اضافه کردن کتابخونه\n",
        "import pandas as pd\n",
        "#import numpy\n",
        "import numpy as np\n",
        "\n",
        "\n",
        "\n",
        "#read data from project2-data1.csv file\n",
        "#داده ها را از فایل مشخص شده بخوانید\n",
        "data1 = pd.read_csv(\"/content/project3data1.csv\")\n",
        "\n",
        "#show a summary of data\n",
        "#نمایش خلاصه ای از داده ها\n",
        "data1.head()"
      ]
    },
    {
      "cell_type": "code",
      "source": [
        "#split the data into input X and output Y\n",
        "#داده ها ی ورودی و خروجی را در دو متغیر جدا میریزیم\n",
        "#input feature\n",
        "X = data1.values[:, 0:2]\n",
        "#output\n",
        "Y = data1.values[:, 2]\n",
        "\n",
        "#find m\n",
        "m = Y.shape[0]\n",
        "print(m)"
      ],
      "metadata": {
        "id": "6R6Ye28TuqJ5",
        "colab": {
          "base_uri": "https://localhost:8080/"
        },
        "outputId": "13cfe9fa-697d-4aae-e17d-f027c3d99500"
      },
      "execution_count": null,
      "outputs": [
        {
          "output_type": "stream",
          "name": "stdout",
          "text": [
            "100\n"
          ]
        }
      ]
    },
    {
      "cell_type": "code",
      "source": [
        "print(X.shape, Y.shape)"
      ],
      "metadata": {
        "colab": {
          "base_uri": "https://localhost:8080/"
        },
        "id": "QYan-BsUXtF7",
        "outputId": "233a5932-23d5-4e38-a23c-f6257464631a"
      },
      "execution_count": null,
      "outputs": [
        {
          "output_type": "stream",
          "name": "stdout",
          "text": [
            "(100, 2) (100,)\n"
          ]
        }
      ]
    },
    {
      "cell_type": "markdown",
      "source": [
        "# Data Visualization:\n",
        "\n",
        "# نمایش داده ها"
      ],
      "metadata": {
        "id": "cBA2IJcIle0i"
      }
    },
    {
      "cell_type": "code",
      "source": [
        "#function for plotting data\n",
        "#تابعی برای نمایش داده ها\n",
        "import matplotlib.pyplot as plt\n",
        "def plotData(X, y):\n",
        "    #Find Indices of pos and neg examples\n",
        "    #پیدا کردن شماره دیتاهای مربوط به دو دسته 0 و یک\n",
        "\n",
        "    # پیدا کردن اندیس یا شماره داده هایی با خروجی 1\n",
        "    pos = (y == 1)\n",
        "    print(pos)\n",
        "    #پیدا کردن اندیس یا شماره داده هایی با خروجی 0\n",
        "    neg = (y == 0)\n",
        "\n",
        "    #plot positive examples (y==1) using red stars\n",
        "    #رسم داده های با خروجی 1 با ستاره های قرمز رنگ\n",
        "    plt.plot(X[pos,0], X[pos,1], 'r*', ms=10)\n",
        "\n",
        "\n",
        "    #plot negetive examples (y==0) using red stars\n",
        "    #رسم داده های با خروجی 0 با دایره های آبی رنگ\n",
        "    plt.plot(X[neg, 0], X[neg, 1], 'bo', ms=8)\n",
        "\n",
        ""
      ],
      "metadata": {
        "id": "83NBRgD6kdih"
      },
      "execution_count": null,
      "outputs": []
    },
    {
      "cell_type": "code",
      "source": [
        "#Data visualization\n",
        "#نمایش داده ها اولین قدم بعد از لود کردن داده ها می باشد\n",
        "plotData(X, Y)\n",
        "\n",
        "plt.xlabel('Exam 1 score')\n",
        "plt.ylabel('Exam 2 score')\n",
        "# نمایش راهنمای داده ها\n",
        "plt.legend(['passed', 'not passed'])\n",
        ""
      ],
      "metadata": {
        "id": "s_DrN-R6b1yR",
        "colab": {
          "base_uri": "https://localhost:8080/",
          "height": 453
        },
        "outputId": "c6a58b8d-0cba-48b0-b7a6-b8526017ee9a"
      },
      "execution_count": null,
      "outputs": [
        {
          "output_type": "stream",
          "name": "stdout",
          "text": [
            "[False False False  True  True False  True  True  True  True False False\n",
            "  True  True False  True  True False  True  True False  True False False\n",
            "  True  True  True False False False  True  True False  True False False\n",
            " False  True False False  True False  True False False False  True  True\n",
            "  True  True  True  True  True False False False  True False  True  True\n",
            "  True False False False False False  True False  True  True False  True\n",
            "  True  True  True  True  True  True False False  True  True  True  True\n",
            "  True  True False  True  True False  True  True False  True  True  True\n",
            "  True  True  True  True]\n"
          ]
        },
        {
          "output_type": "execute_result",
          "data": {
            "text/plain": [
              "<matplotlib.legend.Legend at 0x7f600f83b290>"
            ]
          },
          "metadata": {},
          "execution_count": 82
        },
        {
          "output_type": "display_data",
          "data": {
            "text/plain": [
              "<Figure size 432x288 with 1 Axes>"
            ],
            "image/png": "[encoded data removed]"
          },
          "metadata": {
            "needs_background": "light"
          }
        }
      ]
    },
    {
      "cell_type": "code",
      "source": [
        "#print shapes of X and Y\n",
        "print(\"shape of X:\", X.shape)\n",
        "print(\"shape of Y:\", Y.shape)\n"
      ],
      "metadata": {
        "id": "qn_HRnyRm4Yv",
        "colab": {
          "base_uri": "https://localhost:8080/"
        },
        "outputId": "fa16d9f5-d370-4536-a9d2-1914976c9e45"
      },
      "execution_count": null,
      "outputs": [
        {
          "output_type": "stream",
          "name": "stdout",
          "text": [
            "shape of X: (100, 2)\n",
            "shape of Y: (100,)\n"
          ]
        }
      ]
    },
    {
      "cell_type": "markdown",
      "source": [
        "# creating X and Y matrices with the right dimensions as shown in the slide\n",
        "\n",
        "# دقیقا به صورتی که در اسلاید زیر نمایش داده شده است X,Y ایجاد ماتریس\n",
        "\n",
        "<p align=\"center\" width=\"100%\">\n",
        "    <img width=\"50%\" src=\"https://drive.google.com/uc?id=1wlGw9Mm6WJge83NeAtrn6jokvE6iShfU\">\n",
        "</p>"
      ],
      "metadata": {
        "id": "uny3m8f1NMYM"
      }
    },
    {
      "cell_type": "code",
      "source": [
        "#Convert dimension X from (m, n) to (n, m)\n",
        "X = np.transpose(X)\n",
        "X.shape"
      ],
      "metadata": {
        "id": "8oQBM6czX3U2",
        "colab": {
          "base_uri": "https://localhost:8080/"
        },
        "outputId": "a2ced8b7-9b57-4b2d-8f2c-3d72dc733ad8"
      },
      "execution_count": null,
      "outputs": [
        {
          "output_type": "execute_result",
          "data": {
            "text/plain": [
              "(2, 100)"
            ]
          },
          "metadata": {},
          "execution_count": 84
        }
      ]
    },
    {
      "cell_type": "code",
      "source": [
        "#convert Y dimension from (m,) to (m, 1)\n",
        "Y = np.expand_dims(Y, 1)\n",
        "#Convert dimension Y from (m, 1) to (1, m)\n",
        "Y = np.transpose(Y)\n",
        "Y.shape"
      ],
      "metadata": {
        "id": "7PYU6ii1ngSV",
        "colab": {
          "base_uri": "https://localhost:8080/"
        },
        "outputId": "b5cc45eb-b4ae-4094-a45e-45643b7d98d7"
      },
      "execution_count": null,
      "outputs": [
        {
          "output_type": "execute_result",
          "data": {
            "text/plain": [
              "(1, 100)"
            ]
          },
          "metadata": {},
          "execution_count": 85
        }
      ]
    },
    {
      "cell_type": "code",
      "source": [
        "#add x0=1 to all the data\n",
        "#به همه داده ها x0=1 اضافه کردن\n",
        "X = np.concatenate([np.ones((1, m)), X], axis=0)\n",
        "X.shape"
      ],
      "metadata": {
        "id": "aBnkQbn4l_lM",
        "colab": {
          "base_uri": "https://localhost:8080/"
        },
        "outputId": "cc32fdcf-b8f5-447b-cb99-3f01a7e372d6"
      },
      "execution_count": null,
      "outputs": [
        {
          "output_type": "execute_result",
          "data": {
            "text/plain": [
              "(3, 100)"
            ]
          },
          "metadata": {},
          "execution_count": 86
        }
      ]
    },
    {
      "cell_type": "markdown",
      "source": [
        "# **Cost Function: implementation**\n",
        "\n",
        "# پیاده سازی تابع هزینه\n",
        "\n",
        "\n",
        "\n",
        "\n",
        "\n",
        "---\n",
        "# First method: simple implementation using for loop as shown inthe slide below\n",
        "\n",
        "روش اول: پیاده سازی ساده با استفاده از حلقه به صورت نشان داده شده در اسلاید زیر\n",
        "\n",
        "\n",
        "<p align=\"center\" width=\"100%\">\n",
        "    <img width=\"80%\" src=\"https://drive.google.com/uc?id=1jK4vn47UYtZNT1Yqr53I3Otz272MjDbr\">\n",
        "</p>\n",
        "\n",
        "\n",
        "\n",
        "---\n",
        "# Second method: vectorized implementation\n",
        "\n",
        "# روش دوم: پیاده سازی به صورت برداری\n",
        "\n",
        "\n",
        "<p align=\"center\" width=\"100%\">\n",
        "    <img width=\"80%\" src=\"https://drive.google.com/uc?id=1aEQiuNglUyi3rK_wF63BJoBK68oo4qVj\">\n",
        "</p>\n",
        "\n",
        "\n"
      ],
      "metadata": {
        "id": "hpnHd6i2lSmc"
      }
    },
    {
      "cell_type": "code",
      "source": [
        "#create a function for sigmoid g = 1/(1 + e^-x)\n",
        "#ابتدا تابع سیگموید را پیاده سازی کنید\n",
        "def sigmoid(x):\n",
        "  g = 1/(1+np.exp(-x))\n",
        "  return g\n",
        ""
      ],
      "metadata": {
        "id": "WOdDS7Y2CDRA"
      },
      "execution_count": null,
      "outputs": []
    },
    {
      "cell_type": "code",
      "source": [
        "#create a function for computing cost J\n",
        "#تابعی بنویسید که تابع هزینه را محاسبه کند به صورت برداری\n",
        "def computeCost(X, Y, thetatemp):\n",
        "  #find m\n",
        "  m = X.shape[1]\n",
        "\n",
        "  # compute h using sigmoid function and thetatemp and X\n",
        "  h = sigmoid(np.matmul(np.transpose(thetatemp), X))\n",
        "\n",
        "  #use h and compute cost\n",
        "  #use np.log() for logarithm\n",
        "  #use np.transpose() for transpose\n",
        "  #np.matmul() for matrix multiplication\n",
        "  cost = (-1/m)*(np.matmul(np.log(h), np.transpose(Y)) + np.matmul(np.log(1 - h), np.transpose(1-Y)))\n",
        "\n",
        "  return cost\n"
      ],
      "metadata": {
        "id": "vhtwuO_0lSQb"
      },
      "execution_count": null,
      "outputs": []
    },
    {
      "cell_type": "code",
      "source": [
        "#initialize theta to [[0], [0], [0]]\n",
        "#انتخاب تتای اولیه به صورت گفته شده\n",
        "theta = np.array([[0], [0], [0]])\n",
        "\n",
        "#use the function you created to compute cost for initialized theta\n",
        "cost = computeCost(X, Y, theta)\n",
        "print(\"initial cost is:\", cost)"
      ],
      "metadata": {
        "id": "fDICzgyjw209",
        "colab": {
          "base_uri": "https://localhost:8080/"
        },
        "outputId": "ed9dc9b3-d856-4657-b58e-331d83fe7ddf"
      },
      "execution_count": null,
      "outputs": [
        {
          "output_type": "stream",
          "name": "stdout",
          "text": [
            "initial cost is: [[0.69314718]]\n"
          ]
        }
      ]
    },
    {
      "cell_type": "markdown",
      "source": [
        "پاسخ صحیح در صورت پیاده سازی درست  [[0.69314718]]"
      ],
      "metadata": {
        "id": "MEl06ppo-ZpN"
      }
    },
    {
      "cell_type": "markdown",
      "source": [
        "# **Gradient Descent: implementation**\n",
        "\n",
        "# پیاده سازی کاهش گرادیان\n",
        "\n",
        "\n",
        "\n",
        "\n",
        "\n",
        "---\n",
        "# First method: simple implementation using for loop as shown in the slide below\n",
        "\n",
        "# روش اول: پیاده سازی ساده با استفاده از حلقه به صورت نشان داده شده در اسلاید زیر\n",
        "\n",
        "\n",
        "<p align=\"center\" width=\"100%\">\n",
        "    <img width=\"80%\" src=\"https://drive.google.com/uc?id=1xwUXHbSS5K68mrUSkCEiDhqjYDIbtusP\">\n",
        "</p>\n",
        "\n",
        "\n",
        "\n",
        "---\n",
        "# Second method: vectorized implementation\n",
        "\n",
        "# روش دوم: پیاده سازی به صورت برداری\n",
        "\n",
        "\n",
        "<p align=\"center\" width=\"100%\">\n",
        "    <img width=\"80%\" src=\"https://drive.google.com/uc?id=1Eb3FNgaRyMfQXzFWToxmRp2TX5pqLCAt\">\n",
        "</p>\n",
        "\n",
        "\n"
      ],
      "metadata": {
        "id": "SkbyNcXV3S6u"
      }
    },
    {
      "cell_type": "code",
      "source": [
        "#create a function for gradient descent\n",
        "def gradientDescent(X, Y, thetatemp, lr, epochs):\n",
        "  m = X.shape[1]\n",
        "  print(m)\n",
        "  J_history = []\n",
        "  for epoch in range(epochs):\n",
        "    h = sigmoid(np.matmul(np.transpose(thetatemp), X))\n",
        "    temp = np.transpose(h - Y)\n",
        "    thetatemp = thetatemp - (lr/m) * np.matmul(X, temp)\n",
        "    J_history.append(computeCost(X, Y, thetatemp)[0, 0])\n",
        "\n",
        "  return thetatemp, J_history"
      ],
      "metadata": {
        "id": "fLw5lqvk2f7k"
      },
      "execution_count": null,
      "outputs": []
    },
    {
      "cell_type": "code",
      "source": [
        "#مقادیر را به گونه ای تغییر دهید که یک مرز تصمیم مناسب دو دسته داده را از هم جدا کند\n",
        "#راهنمایی : تابع مهزینه در نهایت باید مقدار نزدیک به 0.2 داشته باشد\n",
        "#initialize theta and train logistic regression\n",
        "#انتخاب مقادیر اولیه 0 برای تتا\n",
        "theta = np.array([[0], [0], [0]])\n",
        "\n",
        "#set epochs and learning rate\n",
        "#مقدار دهی برای نرخ یادگیری، تعداد تکرار\n",
        "epochs = 1000000\n",
        "lr = 0.004\n",
        "#run gradientDescent and print theta and last cost\n",
        "\n",
        "thetanew, J_history = gradientDescent(X, Y, theta, lr, epochs)\n",
        "#print theta\n",
        "print(thetanew)\n",
        "\n",
        "#print last cost >>> J_history[-1]\n",
        "print(\"last cost: \", J_history[-1])\n",
        "\n",
        "\n"
      ],
      "metadata": {
        "id": "7LWt0Uf24iUT",
        "colab": {
          "base_uri": "https://localhost:8080/"
        },
        "outputId": "f0b74e7a-67de-48e8-b264-7794c2807cb6"
      },
      "execution_count": null,
      "outputs": [
        {
          "output_type": "stream",
          "name": "stdout",
          "text": [
            "100\n",
            "[[-24.70878572]\n",
            " [  0.20261206]\n",
            " [  0.19780967]]\n",
            "last cost:  0.2035286344115374\n"
          ]
        }
      ]
    },
    {
      "cell_type": "code",
      "source": [
        "#function for plotting data\n",
        "#تابعی برای نمایش داده ها\n",
        "import matplotlib.pyplot as plt\n",
        "def plotData(X, y):\n",
        "    #Find Indices of pos and neg examples\n",
        "    #پیدا کردن شماره دیتاهای مربوط به دو دسته 0 و یک\n",
        "\n",
        "    # پیدا کردن اندیس یا شماره داده هایی با خروجی 1\n",
        "    pos = (y == 1)\n",
        "\n",
        "    #پیدا کردن اندیس یا شماره داده هایی با خروجی 0\n",
        "    neg = (y == 0)\n",
        "\n",
        "    #plot positive examples (y==1) using red stars\n",
        "    #رسم داده های با خروجی 1 با ستاره های قرمز رنگ\n",
        "    plt.plot(X[pos,0], X[pos,1], 'r*', ms=10)\n",
        "\n",
        "\n",
        "    #plot negetive examples (y==0) using red stars\n",
        "    #رسم داده های با خروجی 0 با دایره های آبی رنگ\n",
        "    plt.plot(X[neg, 0], X[neg, 1], 'bo', ms=8)\n",
        "\n",
        ""
      ],
      "metadata": {
        "id": "HRRMjrIWWJAa"
      },
      "execution_count": null,
      "outputs": []
    },
    {
      "cell_type": "code",
      "source": [
        "#Decision Boundary visualization\n",
        "#نمایش داده ها اولین قدم بعد از لود کردن داده ها می باشد\n",
        "print(X.shape, Y[0,:].shape)\n",
        "plotData(np.transpose(X[1:, :]), Y[0,:])\n",
        "\n",
        "plt.xlabel('Exam 1 score')\n",
        "plt.ylabel('Exam 2 score')\n",
        "# نمایش راهنمای داده ها\n",
        "plt.legend(['passed', 'not passed'])\n",
        ""
      ],
      "metadata": {
        "colab": {
          "base_uri": "https://localhost:8080/",
          "height": 314
        },
        "outputId": "f00df91a-e413-4629-a226-8bcc242c2d91",
        "id": "TkCtcAwsPFRd"
      },
      "execution_count": null,
      "outputs": [
        {
          "output_type": "stream",
          "name": "stdout",
          "text": [
            "(3, 100) (100,)\n"
          ]
        },
        {
          "output_type": "execute_result",
          "data": {
            "text/plain": [
              "<matplotlib.legend.Legend at 0x7f600f6282d0>"
            ]
          },
          "metadata": {},
          "execution_count": 142
        },
        {
          "output_type": "display_data",
          "data": {
            "text/plain": [
              "<Figure size 432x288 with 1 Axes>"
            ],
            "image/png": "[encoded data removed]"
          },
          "metadata": {
            "needs_background": "light"
          }
        }
      ]
    },
    {
      "cell_type": "code",
      "source": [
        "#this function helps you plot the decision boundary\n",
        "#این تابع به شما کمک میکند تا مرز تصمیم را رسم کنید\n",
        "#آن را اجرا کنید\n",
        "def plotDecisionBoundary(plotData, theta, X, y):\n",
        "\n",
        "    #make sure theta is a numpy array\n",
        "    theta = np.array(theta)\n",
        "\n",
        "\n",
        "    #Plot Data (remember first column in X is the intercept)\n",
        "    plotData(X, y)\n",
        "\n",
        "    if X.shape[1] <= 3:\n",
        "        # Only need 2 points to define a line, so choose two endpoints\n",
        "        plot_x = np.array([np.min(X[:, 1]) - 2, np.max(X[:, 1]) + 2])\n",
        "\n",
        "        # Calculate the decision boundary line\n",
        "        plot_y = (-1. / theta[2]) * (theta[1] * plot_x + theta[0])\n",
        "\n",
        "        # Plot, and adjust axes for better viewing\n",
        "        plt.plot(plot_x, plot_y)\n",
        "\n",
        "        # Legend, specific for the exercise\n",
        "        plt.legend(['Passed', 'Not Passed', 'Decision Boundary'])\n",
        "        plt.xlim([30, 100])\n",
        "        plt.ylim([30, 100])\n",
        "    else:\n",
        "        # Here is the grid range\n",
        "        u = np.linspace(-1, 1.5, 50)\n",
        "        v = np.linspace(-1, 1.5, 50)\n",
        "\n",
        "        z = np.zeros((u.size, v.size))\n",
        "        # Evaluate z = theta*x over the grid\n",
        "        for i, ui in enumerate(u):\n",
        "            for j, vj in enumerate(v):\n",
        "                z[i, j] = np.dot(mapFeature(np.array([ui, vj], ndmin=2)), theta)\n",
        "\n",
        "        z = z.T  # important to transpose z before calling contour\n",
        "        # print(z)\n",
        "\n",
        "        # Plot z = 0\n",
        "        plt.contour(u, v, z, levels=[0], linewidths=2, colors='g')\n",
        "        plt.contourf(u, v, z, levels=[np.min(z), 0, np.max(z)], cmap='Greens', alpha=0.4)\n",
        "\n"
      ],
      "metadata": {
        "id": "hqMdIDdHQpCt"
      },
      "execution_count": null,
      "outputs": []
    },
    {
      "cell_type": "code",
      "source": [
        "print(\"shape of X is: \", X.shape)\n",
        "print(\"shape of Y is: \", Y.shape)"
      ],
      "metadata": {
        "colab": {
          "base_uri": "https://localhost:8080/"
        },
        "id": "Rymli0MHgziu",
        "outputId": "a2d6c173-b25a-402f-ed89-3904b9331748"
      },
      "execution_count": null,
      "outputs": [
        {
          "output_type": "stream",
          "name": "stdout",
          "text": [
            "shape of X is:  (3, 100)\n",
            "shape of Y is:  (1, 100)\n"
          ]
        }
      ]
    },
    {
      "cell_type": "code",
      "source": [
        "#convert X shape to (100, 2) (first delete x0 column then transpose)\n",
        "#Convert Y shape to (100,) >> use indexing Y[0, :]\n",
        "#برای استفاده از تابع رسم مرز تصمیم Y  و  X تبدیل ابعاد\n",
        "#فراخوانی تابع\n",
        "plotDecisionBoundary(plotData, thetanew, np.transpose(X[1:, :]), Y[0,:])"
      ],
      "metadata": {
        "colab": {
          "base_uri": "https://localhost:8080/",
          "height": 286
        },
        "id": "2EH-fAm1Ru9t",
        "outputId": "358ee221-7ce8-4f21-fc4e-06d6e656ab79"
      },
      "execution_count": null,
      "outputs": [
        {
          "output_type": "stream",
          "name": "stdout",
          "text": [
            "(1, 100)\n"
          ]
        },
        {
          "output_type": "display_data",
          "data": {
            "text/plain": [
              "<Figure size 432x288 with 1 Axes>"
            ],
            "image/png": "[encoded data removed]"
          },
          "metadata": {
            "needs_background": "light"
          }
        }
      ]
    },
    {
      "cell_type": "markdown",
      "source": [
        "# Predict"
      ],
      "metadata": {
        "id": "KoEjTAOaDYFs"
      }
    },
    {
      "cell_type": "code",
      "source": [
        "#h(x) = sigmoid()\n",
        "#create a predict function that returns probability and class(use threshold 0.5)\n",
        "#تابعی بنویسید که تخمین مدل را هم به صورت احتمال بین 0 تا 1 و هم به صورت کلاس های مشخص شده برگرداند\n",
        "#از مقدار آستانه 0.5 استفاده کنید\n",
        "def predict(thetatemp, X):\n",
        "  prediction_prob = sigmoid(np.matmul(np.transpose(thetatemp), X))\n",
        "  prediction_class = prediction_prob.copy()\n",
        "  prediction_class[prediction_class >= 0.5] = 1\n",
        "  prediction_class[prediction_class < 0.5] = 0\n",
        "\n",
        "  return prediction_prob, prediction_class\n",
        ""
      ],
      "metadata": {
        "id": "lviRT-aXkriZ"
      },
      "execution_count": null,
      "outputs": []
    },
    {
      "cell_type": "code",
      "source": [
        "#call the predict function and print the output of model for all data X\n",
        "prediction_prob, prediction_class = predict(thetanew, X)\n",
        "\n",
        "#print prediction_prob\n",
        "print(prediction_prob)\n",
        "#print prediction_class\n",
        "print(prediction_class)\n",
        "#print real classes >> Y\n",
        "print(Y[0,:])"
      ],
      "metadata": {
        "colab": {
          "base_uri": "https://localhost:8080/"
        },
        "id": "7lkhieX2mFyk",
        "outputId": "8ba3fce1-d934-4b1b-b4e8-24d11b5a05af"
      },
      "execution_count": null,
      "outputs": [
        {
          "output_type": "stream",
          "name": "stdout",
          "text": [
            "[[9.45266735e-02 5.07028468e-05 4.63131930e-02 9.89621653e-01\n",
            "  9.97990877e-01 1.17225750e-02 9.98845641e-01 4.25793786e-01\n",
            "  9.99665447e-01 7.32951252e-01 9.06806487e-01 3.05758266e-02\n",
            "  9.99172677e-01 9.99829229e-01 1.60161797e-01 9.79617331e-01\n",
            "  4.30020721e-01 1.53363565e-01 9.99661272e-01 5.74205346e-01\n",
            "  7.01398498e-02 9.98463271e-01 8.11674543e-03 1.19516425e-04\n",
            "  9.91189616e-01 8.51414811e-01 5.99855626e-01 8.62054535e-01\n",
            "  9.62071804e-02 1.81006713e-02 8.93737802e-01 9.79779567e-01\n",
            "  1.59249061e-01 3.94301197e-01 7.73694512e-02 3.52078765e-02\n",
            "  8.48159024e-01 9.86595149e-01 2.08835740e-01 5.21526161e-02\n",
            "  9.68602533e-01 6.71970549e-03 9.99387131e-01 5.03700120e-01\n",
            "  4.95829817e-03 1.41419047e-01 9.92375747e-01 9.99995246e-01\n",
            "  9.99097803e-01 9.99988674e-01 9.97890475e-01 9.99431092e-01\n",
            "  9.02044548e-01 3.12023411e-03 9.30075242e-03 5.56645508e-02\n",
            "  9.99832922e-01 6.90416109e-01 9.84432349e-01 9.95306708e-01\n",
            "  9.99464310e-01 2.59036820e-04 3.89257216e-03 1.49429580e-04\n",
            "  7.48834074e-02 4.33416844e-02 9.41684653e-01 1.09534003e-02\n",
            "  9.99943334e-01 7.06737670e-01 7.39411273e-05 9.75914747e-01\n",
            "  9.99874645e-01 8.80755981e-01 9.01910627e-01 9.99946345e-01\n",
            "  9.14425377e-01 6.24939956e-01 1.71040755e-02 5.99103864e-01\n",
            "  9.99187114e-01 9.71930609e-01 8.91187224e-01 2.07669133e-01\n",
            "  9.99930024e-01 9.97751283e-01 3.57201810e-01 9.99790537e-01\n",
            "  9.99967735e-01 1.10892892e-01 9.99933529e-01 9.99982039e-01\n",
            "  1.60792481e-03 9.99229362e-01 9.21822104e-01 8.55352494e-01\n",
            "  7.47236749e-01 9.99878815e-01 3.42524250e-01 9.99711802e-01]]\n",
            "[[0. 0. 0. 1. 1. 0. 1. 0. 1. 1. 1. 0. 1. 1. 0. 1. 0. 0. 1. 1. 0. 1. 0. 0.\n",
            "  1. 1. 1. 1. 0. 0. 1. 1. 0. 0. 0. 0. 1. 1. 0. 0. 1. 0. 1. 1. 0. 0. 1. 1.\n",
            "  1. 1. 1. 1. 1. 0. 0. 0. 1. 1. 1. 1. 1. 0. 0. 0. 0. 0. 1. 0. 1. 1. 0. 1.\n",
            "  1. 1. 1. 1. 1. 1. 0. 1. 1. 1. 1. 0. 1. 1. 0. 1. 1. 0. 1. 1. 0. 1. 1. 1.\n",
            "  1. 1. 0. 1.]]\n",
            "[0. 0. 0. 1. 1. 0. 1. 1. 1. 1. 0. 0. 1. 1. 0. 1. 1. 0. 1. 1. 0. 1. 0. 0.\n",
            " 1. 1. 1. 0. 0. 0. 1. 1. 0. 1. 0. 0. 0. 1. 0. 0. 1. 0. 1. 0. 0. 0. 1. 1.\n",
            " 1. 1. 1. 1. 1. 0. 0. 0. 1. 0. 1. 1. 1. 0. 0. 0. 0. 0. 1. 0. 1. 1. 0. 1.\n",
            " 1. 1. 1. 1. 1. 1. 0. 0. 1. 1. 1. 1. 1. 1. 0. 1. 1. 0. 1. 1. 0. 1. 1. 1.\n",
            " 1. 1. 1. 1.]\n"
          ]
        }
      ]
    },
    {
      "cell_type": "markdown",
      "source": [
        "# Logistic Regression with regularization\n",
        "\n",
        "\n",
        "\n",
        "\n",
        "#  رگرسیون لاجستیک(کلاسفیکیشن) به همراه مقید سازی\n",
        "\n",
        "در این پروژه میخواهیم با استفاده از مقادیر دو آزمایش انجام شده برروی میکروچیپ ها\n",
        "\n",
        "تشخیص بدیم که آیا کفیت چیپ ها قابل قبول هست(1) یا نیست(0)\n",
        "\n",
        ":مشخصات دیتا\n",
        "\n",
        "دیتای ورودی : نتایج تست 1 و تست 2\n",
        "\n",
        "دیتای خروجی :کیفیت قابل قبول(1) یا کیفیت غیرقابل قبول(0)"
      ],
      "metadata": {
        "id": "nRdlaSwv6ZBT"
      }
    },
    {
      "cell_type": "code",
      "execution_count": null,
      "metadata": {
        "colab": {
          "base_uri": "https://localhost:8080/",
          "height": 206
        },
        "outputId": "16b6ffc9-54bb-48d2-827e-ec05a44c166e",
        "id": "T2SHnZ8u6ZBc"
      },
      "outputs": [
        {
          "output_type": "execute_result",
          "data": {
            "text/plain": [
              "      test1    test2  Quality\n",
              "0  0.051267  0.69956        1\n",
              "1 -0.092742  0.68494        1\n",
              "2 -0.213710  0.69225        1\n",
              "3 -0.375000  0.50219        1\n",
              "4 -0.513250  0.46564        1"
            ],
            "text/html": [
              "\n",
              "  <div id=\"df-96c5057b-a612-4970-9362-8690088d0b5e\">\n",
              "    <div class=\"colab-df-container\">\n",
              "      <div>\n",
              "<style scoped>\n",
              "    .dataframe tbody tr th:only-of-type {\n",
              "        vertical-align: middle;\n",
              "    }\n",
              "\n",
              "    .dataframe tbody tr th {\n",
              "        vertical-align: top;\n",
              "    }\n",
              "\n",
              "    .dataframe thead th {\n",
              "        text-align: right;\n",
              "    }\n",
              "</style>\n",
              "<table border=\"1\" class=\"dataframe\">\n",
              "  <thead>\n",
              "    <tr style=\"text-align: right;\">\n",
              "      <th></th>\n",
              "      <th>test1</th>\n",
              "      <th>test2</th>\n",
              "      <th>Quality</th>\n",
              "    </tr>\n",
              "  </thead>\n",
              "  <tbody>\n",
              "    <tr>\n",
              "      <th>0</th>\n",
              "      <td>0.051267</td>\n",
              "      <td>0.69956</td>\n",
              "      <td>1</td>\n",
              "    </tr>\n",
              "    <tr>\n",
              "      <th>1</th>\n",
              "      <td>-0.092742</td>\n",
              "      <td>0.68494</td>\n",
              "      <td>1</td>\n",
              "    </tr>\n",
              "    <tr>\n",
              "      <th>2</th>\n",
              "      <td>-0.213710</td>\n",
              "      <td>0.69225</td>\n",
              "      <td>1</td>\n",
              "    </tr>\n",
              "    <tr>\n",
              "      <th>3</th>\n",
              "      <td>-0.375000</td>\n",
              "      <td>0.50219</td>\n",
              "      <td>1</td>\n",
              "    </tr>\n",
              "    <tr>\n",
              "      <th>4</th>\n",
              "      <td>-0.513250</td>\n",
              "      <td>0.46564</td>\n",
              "      <td>1</td>\n",
              "    </tr>\n",
              "  </tbody>\n",
              "</table>\n",
              "</div>\n",
              "      <button class=\"colab-df-convert\" onclick=\"convertToInteractive('df-96c5057b-a612-4970-9362-8690088d0b5e')\"\n",
              "              title=\"Convert this dataframe to an interactive table.\"\n",
              "              style=\"display:none;\">\n",
              "        \n",
              "  <svg xmlns=\"http://www.w3.org/2000/svg\" height=\"24px\"viewBox=\"0 0 24 24\"\n",
              "       width=\"24px\">\n",
              "    <path d=\"M0 0h24v24H0V0z\" fill=\"none\"/>\n",
              "    <path d=\"M18.56 5.44l.94 2.06.94-2.06 2.06-.94-2.06-.94-.94-2.06-.94 2.06-2.06.94zm-11 1L8.5 8.5l.94-2.06 2.06-.94-2.06-.94L8.5 2.5l-.94 2.06-2.06.94zm10 10l.94 2.06.94-2.06 2.06-.94-2.06-.94-.94-2.06-.94 2.06-2.06.94z\"/><path d=\"M17.41 7.96l-1.37-1.37c-.4-.4-.92-.59-1.43-.59-.52 0-1.04.2-1.43.59L10.3 9.45l-7.72 7.72c-.78.78-.78 2.05 0 2.83L4 21.41c.39.39.9.59 1.41.59.51 0 1.02-.2 1.41-.59l7.78-7.78 2.81-2.81c.8-.78.8-2.07 0-2.86zM5.41 20L4 18.59l7.72-7.72 1.47 1.35L5.41 20z\"/>\n",
              "  </svg>\n",
              "      </button>\n",
              "      \n",
              "  <style>\n",
              "    .colab-df-container {\n",
              "      display:flex;\n",
              "      flex-wrap:wrap;\n",
              "      gap: 12px;\n",
              "    }\n",
              "\n",
              "    .colab-df-convert {\n",
              "      background-color: #E8F0FE;\n",
              "      border: none;\n",
              "      border-radius: 50%;\n",
              "      cursor: pointer;\n",
              "      display: none;\n",
              "      fill: #1967D2;\n",
              "      height: 32px;\n",
              "      padding: 0 0 0 0;\n",
              "      width: 32px;\n",
              "    }\n",
              "\n",
              "    .colab-df-convert:hover {\n",
              "      background-color: #E2EBFA;\n",
              "      box-shadow: 0px 1px 2px rgba(60, 64, 67, 0.3), 0px 1px 3px 1px rgba(60, 64, 67, 0.15);\n",
              "      fill: #174EA6;\n",
              "    }\n",
              "\n",
              "    [theme=dark] .colab-df-convert {\n",
              "      background-color: #3B4455;\n",
              "      fill: #D2E3FC;\n",
              "    }\n",
              "\n",
              "    [theme=dark] .colab-df-convert:hover {\n",
              "      background-color: #434B5C;\n",
              "      box-shadow: 0px 1px 3px 1px rgba(0, 0, 0, 0.15);\n",
              "      filter: drop-shadow(0px 1px 2px rgba(0, 0, 0, 0.3));\n",
              "      fill: #FFFFFF;\n",
              "    }\n",
              "  </style>\n",
              "\n",
              "      <script>\n",
              "        const buttonEl =\n",
              "          document.querySelector('#df-96c5057b-a612-4970-9362-8690088d0b5e button.colab-df-convert');\n",
              "        buttonEl.style.display =\n",
              "          google.colab.kernel.accessAllowed ? 'block' : 'none';\n",
              "\n",
              "        async function convertToInteractive(key) {\n",
              "          const element = document.querySelector('#df-96c5057b-a612-4970-9362-8690088d0b5e');\n",
              "          const dataTable =\n",
              "            await google.colab.kernel.invokeFunction('convertToInteractive',\n",
              "                                                     [key], {});\n",
              "          if (!dataTable) return;\n",
              "\n",
              "          const docLinkHtml = 'Like what you see? Visit the ' +\n",
              "            '<a target=\"_blank\" href=https://colab.research.google.com/notebooks/data_table.ipynb>data table notebook</a>'\n",
              "            + ' to learn more about interactive tables.';\n",
              "          element.innerHTML = '';\n",
              "          dataTable['output_type'] = 'display_data';\n",
              "          await google.colab.output.renderOutput(dataTable, element);\n",
              "          const docLink = document.createElement('div');\n",
              "          docLink.innerHTML = docLinkHtml;\n",
              "          element.appendChild(docLink);\n",
              "        }\n",
              "      </script>\n",
              "    </div>\n",
              "  </div>\n",
              "  "
            ]
          },
          "metadata": {},
          "execution_count": 229
        }
      ],
      "source": [
        "#load data set from a csv file\n",
        "# csv لود کردن داده های موجود از یک فایل\n",
        "# در اولین مرحله فایل مربوط به دیتای بخش اول را آپلود کنید\n",
        "#import pandas libaray for reading a csv file\n",
        "# به برنامه pandas اضافه کردن کتابخونه\n",
        "import pandas as pd\n",
        "#import numpy\n",
        "import numpy as np\n",
        "\n",
        "\n",
        "\n",
        "#read data from project2-data1.csv file\n",
        "#داده ها را از فایل مشخص شده بخوانید\n",
        "data2 = pd.read_csv(\"/content/project3data2.csv\")\n",
        "\n",
        "#show a summary of data\n",
        "#نمایش خلاصه ای از داده ها\n",
        "data2.head()"
      ]
    },
    {
      "cell_type": "code",
      "source": [
        "#split the data into input X and output Y\n",
        "#داده ها ی ورودی و خروجی را در دو متغیر جدا میریزیم\n",
        "#input feature\n",
        "X = data2.values[:, 0:2]\n",
        "#output\n",
        "Y = data2.values[:, 2]\n",
        "\n",
        "#find m\n",
        "m = Y.shape[0]\n",
        "print(m)"
      ],
      "metadata": {
        "colab": {
          "base_uri": "https://localhost:8080/"
        },
        "outputId": "f0e75787-378d-4bdc-d1ba-ccc2a2772e2d",
        "id": "KCo-roXq6ZBc"
      },
      "execution_count": null,
      "outputs": [
        {
          "output_type": "stream",
          "name": "stdout",
          "text": [
            "118\n"
          ]
        }
      ]
    },
    {
      "cell_type": "code",
      "source": [
        "print(X.shape, Y.shape)"
      ],
      "metadata": {
        "colab": {
          "base_uri": "https://localhost:8080/"
        },
        "outputId": "365ce950-cfbd-46e6-f791-b8c0c833c212",
        "id": "sWtk78ud6ZBd"
      },
      "execution_count": null,
      "outputs": [
        {
          "output_type": "stream",
          "name": "stdout",
          "text": [
            "(118, 2) (118,)\n"
          ]
        }
      ]
    },
    {
      "cell_type": "markdown",
      "source": [
        "# Data Visualization:\n",
        "\n",
        "# نمایش داده ها"
      ],
      "metadata": {
        "id": "X-vBIF9f6ZBd"
      }
    },
    {
      "cell_type": "code",
      "source": [
        "#function for plotting data\n",
        "#تابعی برای نمایش داده ها\n",
        "import matplotlib.pyplot as plt\n",
        "def plotData(X, y):\n",
        "    #Find Indices of pos and neg examples\n",
        "    #پیدا کردن شماره دیتاهای مربوط به دو دسته 0 و یک\n",
        "\n",
        "    # پیدا کردن اندیس یا شماره داده هایی با خروجی 1\n",
        "    pos = (y == 1)\n",
        "\n",
        "    #پیدا کردن اندیس یا شماره داده هایی با خروجی 0\n",
        "    neg = (y == 0)\n",
        "\n",
        "    #plot positive examples (y==1) using red stars\n",
        "    #رسم داده های با خروجی 1 با ستاره های قرمز رنگ\n",
        "    plt.plot(X[pos,0], X[pos,1], 'r*', ms=10)\n",
        "\n",
        "\n",
        "    #plot negetive examples (y==0) using red stars\n",
        "    #رسم داده های با خروجی 0 با دایره های آبی رنگ\n",
        "    plt.plot(X[neg, 0], X[neg, 1], 'bo', ms=8)\n",
        "\n",
        ""
      ],
      "metadata": {
        "id": "AGgVm8rZ6ZBd"
      },
      "execution_count": null,
      "outputs": []
    },
    {
      "cell_type": "code",
      "source": [
        "#Data visualization\n",
        "#نمایش داده ها اولین قدم بعد از لود کردن داده ها می باشد\n",
        "plotData(X, Y)\n",
        "\n",
        "plt.xlabel('Exam 1 score')\n",
        "plt.ylabel('Exam 2 score')\n",
        "# نمایش راهنمای داده ها\n",
        "plt.legend(['passed', 'not passed'])\n",
        ""
      ],
      "metadata": {
        "colab": {
          "base_uri": "https://localhost:8080/",
          "height": 296
        },
        "outputId": "1416ec4d-54c7-4801-c201-1dcde0aed598",
        "id": "IWhbgxf-6ZBd"
      },
      "execution_count": null,
      "outputs": [
        {
          "output_type": "execute_result",
          "data": {
            "text/plain": [
              "<matplotlib.legend.Legend at 0x7f600d0be350>"
            ]
          },
          "metadata": {},
          "execution_count": 233
        },
        {
          "output_type": "display_data",
          "data": {
            "text/plain": [
              "<Figure size 432x288 with 1 Axes>"
            ],
            "image/png": "[encoded data removed]"
          },
          "metadata": {
            "needs_background": "light"
          }
        }
      ]
    },
    {
      "cell_type": "markdown",
      "source": [
        "as you saw above, the classes can not be separated using a line\n",
        "\n",
        "همانطور که میبینید داده ها را نمی توان توسط یک خط در دو کلاس جدا قرار داد\n",
        "\n",
        "we need a non-linear decision boundary\n",
        "\n",
        "ما باید از یک مرز تصمیم غیر خطی استفاده کنیم\n",
        "\n",
        "so we first must create new features using the mapFeature function\n",
        "\n",
        "برای اینکار ما باید ویژگی های جدیدی به صورت زیر توسط تابع آورده شده ، ایجاد کنیم\n",
        "\n",
        "<p align=\"center\" width=\"100%\">\n",
        "    <img width=\"70%\" src=\"https://drive.google.com/uc?id=1_gi7UyIuIQePo13IsdqtSi-idXZvctTo\">\n",
        "</p>"
      ],
      "metadata": {
        "id": "tt_GouIUG6yh"
      }
    },
    {
      "cell_type": "code",
      "source": [
        "#with the function below u can create polynomial features\n",
        "#keep in mind that this function adds x0 so we dont need to do it later\n",
        "#راه اضافه میکند x0 دقت کنید که این تابع\n",
        "\n",
        "def mapFeature(X, degree=6):\n",
        "    X1 = X[:,0]\n",
        "    X2 = X[:,1]\n",
        "    if X1.ndim > 0:\n",
        "        out = [np.ones(X1.shape[0])]\n",
        "    else:\n",
        "        out = [np.ones(1)]\n",
        "\n",
        "    for i in range(1, degree + 1):\n",
        "        for j in range(i + 1):\n",
        "            out.append((X1 ** (i - j)) * (X2 ** j))\n",
        "\n",
        "    if X1.ndim > 0:\n",
        "        return np.stack(out, axis=1)\n",
        "    else:\n",
        "        return np.array(out)"
      ],
      "metadata": {
        "id": "AacfAfV3FkYd"
      },
      "execution_count": null,
      "outputs": []
    },
    {
      "cell_type": "code",
      "source": [
        "#call mapFeature with degree=6 to create new features\n",
        "X = mapFeature(X, 6)\n",
        "print(X.shape)"
      ],
      "metadata": {
        "colab": {
          "base_uri": "https://localhost:8080/"
        },
        "id": "ac0ZMNHwF_Ji",
        "outputId": "b6135de9-6037-46cf-e56d-ad8d6f72bab0"
      },
      "execution_count": null,
      "outputs": [
        {
          "output_type": "stream",
          "name": "stdout",
          "text": [
            "(118, 28)\n"
          ]
        }
      ]
    },
    {
      "cell_type": "code",
      "source": [
        "#print shapes of X and Y\n",
        "print(\"shape of X:\", X.shape)\n",
        "print(\"shape of Y:\", Y.shape)\n"
      ],
      "metadata": {
        "colab": {
          "base_uri": "https://localhost:8080/"
        },
        "outputId": "6ac743d2-93db-4be5-f192-4f929b72907a",
        "id": "bqEPgyoS6ZBd"
      },
      "execution_count": null,
      "outputs": [
        {
          "output_type": "stream",
          "name": "stdout",
          "text": [
            "shape of X: (118, 28)\n",
            "shape of Y: (118,)\n"
          ]
        }
      ]
    },
    {
      "cell_type": "markdown",
      "source": [
        "# creating X and Y matrices with the right dimensions as shown in the slide\n",
        "\n",
        "# دقیقا به صورتی که در اسلاید زیر نمایش داده شده است X,Y ایجاد ماتریس\n",
        "\n",
        "<p align=\"center\" width=\"100%\">\n",
        "    <img width=\"50%\" src=\"https://drive.google.com/uc?id=1wlGw9Mm6WJge83NeAtrn6jokvE6iShfU\">\n",
        "</p>"
      ],
      "metadata": {
        "id": "xYx8I9Ia6ZBd"
      }
    },
    {
      "cell_type": "code",
      "source": [
        "#Convert dimension X from (m, n) to (n, m)\n",
        "X = np.transpose(X)\n",
        "X.shape"
      ],
      "metadata": {
        "colab": {
          "base_uri": "https://localhost:8080/"
        },
        "outputId": "2afb51b8-d060-43ba-8b57-eeebb08aa746",
        "id": "mBhhxgYZ6ZBe"
      },
      "execution_count": null,
      "outputs": [
        {
          "output_type": "execute_result",
          "data": {
            "text/plain": [
              "(28, 118)"
            ]
          },
          "metadata": {},
          "execution_count": 236
        }
      ]
    },
    {
      "cell_type": "code",
      "source": [
        "#convert Y dimension from (m,) to (m, 1)\n",
        "Y = np.expand_dims(Y, 1)\n",
        "#Convert dimension Y from (m, 1) to (1, m)\n",
        "Y = np.transpose(Y)\n",
        "Y.shape"
      ],
      "metadata": {
        "colab": {
          "base_uri": "https://localhost:8080/"
        },
        "outputId": "0cfb88e9-78a0-469a-ccd0-0354926a43bf",
        "id": "qsXwD1U36ZBe"
      },
      "execution_count": null,
      "outputs": [
        {
          "output_type": "execute_result",
          "data": {
            "text/plain": [
              "(1, 118)"
            ]
          },
          "metadata": {},
          "execution_count": 237
        }
      ]
    },
    {
      "cell_type": "markdown",
      "source": [
        "# **Cost Function with Regularization: implementation**\n",
        "\n",
        "# پیاده سازی تابع هزینه\n",
        "\n",
        "\n",
        "\n",
        "\n",
        "\n",
        "---\n",
        "# First method: simple implementation using for loop as shown inthe slide below\n",
        "\n",
        "روش اول: پیاده سازی ساده با استفاده از حلقه به صورت نشان داده شده در اسلاید زیر\n",
        "\n",
        "\n",
        "<p align=\"center\" width=\"100%\">\n",
        "    <img width=\"80%\" src=\"https://drive.google.com/uc?id=1dTN9GmNaKcM5ZIScH2P_vVLjG77t5sjg\">\n",
        "</p>\n",
        "\n",
        "\n",
        "\n",
        "---\n",
        "# Second method: vectorized implementation\n",
        "\n",
        "# روش دوم: پیاده سازی به صورت برداری\n",
        "\n",
        "\n",
        "<p align=\"center\" width=\"100%\">\n",
        "    <img width=\"80%\" src=\"https://drive.google.com/uc?id=1aEQiuNglUyi3rK_wF63BJoBK68oo4qVj\">\n",
        "</p>\n",
        "\n",
        "\n"
      ],
      "metadata": {
        "id": "0DZgy-_l6ZBe"
      }
    },
    {
      "cell_type": "code",
      "source": [
        "#create a function for sigmoid g = 1/(1 + e^-x)\n",
        "#ابتدا تابع سیگموید را پیاده سازی کنید\n",
        "def sigmoid(x):\n",
        "  g = 1/(1+np.exp(-x))\n",
        "  return g\n",
        ""
      ],
      "metadata": {
        "id": "lX1_MkWZ6ZBe"
      },
      "execution_count": null,
      "outputs": []
    },
    {
      "cell_type": "code",
      "source": [
        "#create a function for computing cost J\n",
        "#تابعی بنویسید که تابع هزینه را محاسبه کند به صورت برداری\n",
        "def computeCostWithReg(X, Y, thetatemp, lambda_):\n",
        "  #find m\n",
        "  m = X.shape[1]\n",
        "\n",
        "  # compute h using sigmoid function and thetatemp and X\n",
        "  h = sigmoid(np.matmul(np.transpose(thetatemp), X))\n",
        "\n",
        "  #use h and compute cost\n",
        "  #use np.log() for logarithm\n",
        "  #use np.transpose() for transpose\n",
        "  #np.matmul() for matrix multiplication\n",
        "  cost = (-1/m)*(np.matmul(np.log(h), np.transpose(Y)) + np.matmul(np.log(1 - h), np.transpose(1-Y)))\n",
        "  costWithReg = cost + (lambda_/(2*m)) * np.matmul(np.transpose(thetatemp[1:]), thetatemp[1:])\n",
        "\n",
        "  return costWithReg\n"
      ],
      "metadata": {
        "id": "m1Ahl4JN6ZBe"
      },
      "execution_count": null,
      "outputs": []
    },
    {
      "cell_type": "code",
      "source": [
        "#initialize theta to a zero vector of shape (X.shape[0],1)>>> np.zeros((X.shape[0],1))\n",
        "#انتخاب تتای اولیه به صورت گفته شده\n",
        "theta = np.zeros((X.shape[0], 1))\n",
        "\n",
        "#use the function you created to compute cost for initialized theta\n",
        "costWithReg = computeCostWithReg(X, Y, theta, lambda_=1)\n",
        "print(\"initial cost is:\", costWithReg)"
      ],
      "metadata": {
        "colab": {
          "base_uri": "https://localhost:8080/"
        },
        "outputId": "0ab800af-a72f-4cf8-9e17-95428a37ede3",
        "id": "-b_pO7SQ6ZBf"
      },
      "execution_count": null,
      "outputs": [
        {
          "output_type": "stream",
          "name": "stdout",
          "text": [
            "initial cost is: [[0.69314718]]\n"
          ]
        }
      ]
    },
    {
      "cell_type": "markdown",
      "source": [
        "پاسخ صحیح در صورت پیاده سازی درست  [[0.69314718]]"
      ],
      "metadata": {
        "id": "mu_SjIXv6ZBf"
      }
    },
    {
      "cell_type": "markdown",
      "source": [
        "# **Gradient Descent with Regularization: implementation**\n",
        "\n",
        "#  پیاده سازی کاهش گرادیان همراه با مقید سازی\n",
        "\n",
        "\n",
        "\n",
        "\n",
        "\n",
        "---\n",
        "# First method: simple implementation using for loop as shown in the slide below\n",
        "\n",
        "# روش اول: پیاده سازی ساده با استفاده از حلقه به صورت نشان داده شده در اسلاید زیر\n",
        "\n",
        "\n",
        "<p align=\"center\" width=\"100%\">\n",
        "    <img width=\"80%\" src=\"https://drive.google.com/uc?id=1906OIZGT-MUITqOD34_93Y7eg1ZHutjP\">\n",
        "</p>\n",
        "\n",
        "\n",
        "\n",
        "---\n",
        "# Second method: vectorized implementation\n",
        "\n",
        "# روش دوم: پیاده سازی به صورت برداری\n",
        "\n",
        "\n",
        "<p align=\"center\" width=\"100%\">\n",
        "    <img width=\"80%\" src=\"https://drive.google.com/uc?id=1v7z__YImgydKcngc4hnFdEsEbKBUO1L6\">\n",
        "</p>\n",
        "\n",
        "\n"
      ],
      "metadata": {
        "id": "0MKQ98iP6ZBf"
      }
    },
    {
      "cell_type": "code",
      "source": [
        "#create a function for gradient descent with regularization\n",
        "#\n",
        "def gradientDescentWithReg(X, Y, thetatemp, lr, epochs, lambda_):\n",
        "  m = X.shape[1]\n",
        "  print(m)\n",
        "  J_history = []\n",
        "  for epoch in range(epochs):\n",
        "    thetatempreg = thetatemp.copy()\n",
        "    thetatempreg[0] = 0\n",
        "    h = sigmoid(np.matmul(np.transpose(thetatemp), X))\n",
        "    temp = np.transpose(h - Y)\n",
        "    thetatemp = thetatemp - (lr/m) * (np.matmul(X, temp) + (lambda_)*thetatempreg)\n",
        "    if(epoch==0):\n",
        "      grad = (1/m) * (np.matmul(X, temp) + (lambda_) * thetatempreg)\n",
        "    J_history.append(computeCostWithReg(X, Y, thetatemp, lambda_)[0, 0])\n",
        "\n",
        "  return thetatemp, J_history, grad"
      ],
      "metadata": {
        "id": "nicY07Lg6ZBf"
      },
      "execution_count": null,
      "outputs": []
    },
    {
      "cell_type": "code",
      "source": [
        "#مقادیر را به گونه ای تغییر دهید که یک مرز تصمیم مناسب دو دسته داده را از هم جدا کند\n",
        "\n",
        "#initialize theta and train logistic regression\n",
        "#انتخاب مقادیر اولیه 0 برای تتا\n",
        "theta = np.ones((X.shape[0], 1))\n",
        "\n",
        "#set epochs and learning rate\n",
        "#مقدار دهی برای نرخ یادگیری، تعداد تکرار\n",
        "epochs = 500000\n",
        "lr = 0.01\n",
        "#run gradientDescent and print theta and last cost\n",
        "\n",
        "thetanew, J_history, gradtest = gradientDescentWithReg(X, Y, theta, lr, epochs, lambda_=1)\n",
        "#print theta\n",
        "#print(thetanew)\n",
        "\n",
        "#print first epoch grad\n",
        "#print(gradtest*250)\n",
        "#print last cost >>> J_history[-1]\n",
        "print(\"last cost: \", J_history[-1])\n",
        "\n",
        "\n"
      ],
      "metadata": {
        "colab": {
          "base_uri": "https://localhost:8080/"
        },
        "outputId": "9221ad39-5eb2-42c8-8d1b-f54a67457478",
        "id": "pTN5tmmT6ZBf"
      },
      "execution_count": null,
      "outputs": [
        {
          "output_type": "stream",
          "name": "stdout",
          "text": [
            "118\n",
            "last cost:  0.5290027297126465\n"
          ]
        }
      ]
    },
    {
      "cell_type": "code",
      "source": [
        "#this function helps you plot the decision boundary\n",
        "#این تابع به شما کمک میکند تا مرز تصمیم را رسم کنید\n",
        "#آن را اجرا کنید\n",
        "def plotDecisionBoundary(plotData, theta, X, y):\n",
        "\n",
        "    #make sure theta is a numpy array\n",
        "    theta = np.array(theta)\n",
        "\n",
        "\n",
        "    #Plot Data (remember first column in X is the intercept)\n",
        "    plotData(X, y)\n",
        "\n",
        "    if X.shape[1] <= 3:\n",
        "        # Only need 2 points to define a line, so choose two endpoints\n",
        "        plot_x = np.array([np.min(X[:, 1]) - 2, np.max(X[:, 1]) + 2])\n",
        "\n",
        "        # Calculate the decision boundary line\n",
        "        plot_y = (-1. / theta[2]) * (theta[1] * plot_x + theta[0])\n",
        "\n",
        "        # Plot, and adjust axes for better viewing\n",
        "        plt.plot(plot_x, plot_y)\n",
        "\n",
        "        # Legend, specific for the exercise\n",
        "        plt.legend(['Passed', 'Not Passed', 'Decision Boundary'])\n",
        "        plt.xlim([30, 100])\n",
        "        plt.ylim([30, 100])\n",
        "    else:\n",
        "        # Here is the grid range\n",
        "        u = np.linspace(-1, 1.5, 50)\n",
        "        v = np.linspace(-1, 1.5, 50)\n",
        "\n",
        "        z = np.zeros((u.size, v.size))\n",
        "        # Evaluate z = theta*x over the grid\n",
        "        for i, ui in enumerate(u):\n",
        "            for j, vj in enumerate(v):\n",
        "                z[i, j] = np.dot(mapFeature(np.array([ui, vj], ndmin=2)), theta)\n",
        "\n",
        "        z = z.T  # important to transpose z before calling contour\n",
        "        # print(z)\n",
        "\n",
        "        # Plot z = 0\n",
        "        plt.contour(u, v, z, levels=[0], linewidths=2, colors='g')\n",
        "        plt.contourf(u, v, z, levels=[np.min(z), 0, np.max(z)], cmap='Greens', alpha=0.4)\n",
        "\n"
      ],
      "metadata": {
        "id": "AecVl-LM6ZBg"
      },
      "execution_count": null,
      "outputs": []
    },
    {
      "cell_type": "code",
      "source": [
        "print(\"shape of X is: \", X.shape)\n",
        "print(\"shape of Y is: \", Y.shape)"
      ],
      "metadata": {
        "colab": {
          "base_uri": "https://localhost:8080/"
        },
        "outputId": "a2d6c173-b25a-402f-ed89-3904b9331748",
        "id": "x4kKerAm6ZBg"
      },
      "execution_count": null,
      "outputs": [
        {
          "output_type": "stream",
          "name": "stdout",
          "text": [
            "shape of X is:  (3, 100)\n",
            "shape of Y is:  (1, 100)\n"
          ]
        }
      ]
    },
    {
      "cell_type": "code",
      "source": [
        "#convert X shape to (100, 2) (first delete x0 column then transpose)\n",
        "#Convert Y shape to (100,) >> use indexing Y[0, :]\n",
        "#برای استفاده از تابع رسم مرز تصمیم Y  و  X تبدیل ابعاد\n",
        "#فراخوانی تابع\n",
        "#train you model with different parameters of lr and epochs and lamba_ to find a model with a good decision boundary\n",
        "#مدل را با پارامتر های مختلف آموزش دهید تا تاثیر این پارامتر ها برروی مرز تصمیم را مشاهده کنید\n",
        "#بعد از هر آموزش با استفاده از دستوری زیر مرز تصمیم را رسم کنید\n",
        "plotDecisionBoundary(plotData, thetanew, np.transpose(X[1:, :]), Y[0,:])"
      ],
      "metadata": {
        "colab": {
          "base_uri": "https://localhost:8080/",
          "height": 269
        },
        "outputId": "0f25fffd-7884-4327-a54c-b18bfd38f70b",
        "id": "0DUXLIWU6ZBg"
      },
      "execution_count": null,
      "outputs": [
        {
          "output_type": "display_data",
          "data": {
            "text/plain": [
              "<Figure size 432x288 with 1 Axes>"
            ],
            "image/png": "[encoded data removed]"
          },
          "metadata": {
            "needs_background": "light"
          }
        }
      ]
    },
    {
      "cell_type": "markdown",
      "source": [
        "# Predict"
      ],
      "metadata": {
        "id": "BFRKbeQV6ZBg"
      }
    },
    {
      "cell_type": "code",
      "source": [
        "#h(x) = sigmoid()\n",
        "#create a predict function that returns probability and class(use threshold 0.5)\n",
        "#تابعی بنویسید که تخمین مدل را هم به صورت احتمال بین 0 تا 1 و هم به صورت کلاس های مشخص شده برگرداند\n",
        "#از مقدار آستانه 0.5 استفاده کنید\n",
        "def predict(thetatemp, X):\n",
        "  prediction_prob = sigmoid(np.matmul(np.transpose(thetatemp), X))\n",
        "  prediction_class = prediction_prob.copy()\n",
        "  prediction_class[prediction_class >= 0.5] = 1\n",
        "  prediction_class[prediction_class < 0.5] = 0\n",
        "\n",
        "  return prediction_prob, prediction_class\n",
        ""
      ],
      "metadata": {
        "id": "BXyMz7Zb6ZBh"
      },
      "execution_count": null,
      "outputs": []
    },
    {
      "cell_type": "code",
      "source": [
        "#call the predict function and print the output of model for all data X\n",
        "prediction_prob, prediction_class = predict(thetanew, X)\n",
        "\n",
        "#print prediction_prob\n",
        "print(prediction_prob)\n",
        "#print prediction_class\n",
        "print(prediction_class)\n",
        "#print real classes >> Y\n",
        "print(Y[0,:])"
      ],
      "metadata": {
        "colab": {
          "base_uri": "https://localhost:8080/"
        },
        "outputId": "dc96c309-0bc8-4a64-ae92-7415f4124a07",
        "id": "kFDXw2TU6ZBh"
      },
      "execution_count": null,
      "outputs": [
        {
          "output_type": "stream",
          "name": "stdout",
          "text": [
            "[[0.69870864 0.71818023 0.6997773  0.72976458 0.65045331 0.62411883\n",
            "  0.66975563 0.63411427 0.63582099 0.58130625 0.53404229 0.51692701\n",
            "  0.58122092 0.48082381 0.63001795 0.71395422 0.77647099 0.56051842\n",
            "  0.70039467 0.62427515 0.5204142  0.53188877 0.49043651 0.51927412\n",
            "  0.60455313 0.51318746 0.53458141 0.39394757 0.78062899 0.58963224\n",
            "  0.24113709 0.58520986 0.7351991  0.76690725 0.7412227  0.7161136\n",
            "  0.65604096 0.72048274 0.74695849 0.65387509 0.72894579 0.69857614\n",
            "  0.60402021 0.74505358 0.64621583 0.68058431 0.42084162 0.77119569\n",
            "  0.56066466 0.61757914 0.76640767 0.81226188 0.78268816 0.79089001\n",
            "  0.77610918 0.69007616 0.73305737 0.66472501 0.23645461 0.543707\n",
            "  0.69840702 0.36495511 0.28437827 0.47423242 0.30637168 0.10455925\n",
            "  0.3148748  0.10050989 0.13725686 0.27141737 0.19370882 0.23483476\n",
            "  0.2073477  0.23391823 0.27250944 0.46301709 0.61182229 0.52754861\n",
            "  0.32428009 0.32694809 0.52886504 0.56425235 0.43812895 0.54858994\n",
            "  0.18975058 0.36593744 0.33373258 0.33737012 0.62083023 0.30502429\n",
            "  0.26397594 0.50954727 0.5906129  0.3181399  0.18091919 0.02717562\n",
            "  0.01638086 0.34352506 0.063013   0.09904842 0.3234201  0.01572705\n",
            "  0.48677342 0.35180607 0.61021938 0.44408883 0.55551452 0.69421862\n",
            "  0.43928922 0.30610377 0.26496932 0.27915109 0.21006112 0.37641641\n",
            "  0.56731365 0.11678232 0.15348518 0.63455169]]\n",
            "[[1. 1. 1. 1. 1. 1. 1. 1. 1. 1. 1. 1. 1. 0. 1. 1. 1. 1. 1. 1. 1. 1. 0. 1.\n",
            "  1. 1. 1. 0. 1. 1. 0. 1. 1. 1. 1. 1. 1. 1. 1. 1. 1. 1. 1. 1. 1. 1. 0. 1.\n",
            "  1. 1. 1. 1. 1. 1. 1. 1. 1. 1. 0. 1. 1. 0. 0. 0. 0. 0. 0. 0. 0. 0. 0. 0.\n",
            "  0. 0. 0. 0. 1. 1. 0. 0. 1. 1. 0. 1. 0. 0. 0. 0. 1. 0. 0. 1. 1. 0. 0. 0.\n",
            "  0. 0. 0. 0. 0. 0. 0. 0. 1. 0. 1. 1. 0. 0. 0. 0. 0. 0. 1. 0. 0. 1.]]\n",
            "[1. 1. 1. 1. 1. 1. 1. 1. 1. 1. 1. 1. 1. 1. 1. 1. 1. 1. 1. 1. 1. 1. 1. 1.\n",
            " 1. 1. 1. 1. 1. 1. 1. 1. 1. 1. 1. 1. 1. 1. 1. 1. 1. 1. 1. 1. 1. 1. 1. 1.\n",
            " 1. 1. 1. 1. 1. 1. 1. 1. 1. 1. 0. 0. 0. 0. 0. 0. 0. 0. 0. 0. 0. 0. 0. 0.\n",
            " 0. 0. 0. 0. 0. 0. 0. 0. 0. 0. 0. 0. 0. 0. 0. 0. 0. 0. 0. 0. 0. 0. 0. 0.\n",
            " 0. 0. 0. 0. 0. 0. 0. 0. 0. 0. 0. 0. 0. 0. 0. 0. 0. 0. 0. 0. 0. 0.]\n"
          ]
        }
      ]
    },
    {
      "cell_type": "markdown",
      "source": [
        "# Use scikit learn for logistic regression"
      ],
      "metadata": {
        "id": "zT9dxx78HHf-"
      }
    },
    {
      "cell_type": "code",
      "execution_count": null,
      "metadata": {
        "id": "DUK3rOMDIoFH",
        "colab": {
          "base_uri": "https://localhost:8080/",
          "height": 206
        },
        "outputId": "8b77cc43-e67a-4af2-b923-50d839e68a10"
      },
      "outputs": [
        {
          "output_type": "execute_result",
          "data": {
            "text/plain": [
              "      test1    test2  Quality\n",
              "0  0.051267  0.69956        1\n",
              "1 -0.092742  0.68494        1\n",
              "2 -0.213710  0.69225        1\n",
              "3 -0.375000  0.50219        1\n",
              "4 -0.513250  0.46564        1"
            ],
            "text/html": [
              "\n",
              "  <div id=\"df-f9394f3a-880b-4df7-9b1f-683f9ca399aa\">\n",
              "    <div class=\"colab-df-container\">\n",
              "      <div>\n",
              "<style scoped>\n",
              "    .dataframe tbody tr th:only-of-type {\n",
              "        vertical-align: middle;\n",
              "    }\n",
              "\n",
              "    .dataframe tbody tr th {\n",
              "        vertical-align: top;\n",
              "    }\n",
              "\n",
              "    .dataframe thead th {\n",
              "        text-align: right;\n",
              "    }\n",
              "</style>\n",
              "<table border=\"1\" class=\"dataframe\">\n",
              "  <thead>\n",
              "    <tr style=\"text-align: right;\">\n",
              "      <th></th>\n",
              "      <th>test1</th>\n",
              "      <th>test2</th>\n",
              "      <th>Quality</th>\n",
              "    </tr>\n",
              "  </thead>\n",
              "  <tbody>\n",
              "    <tr>\n",
              "      <th>0</th>\n",
              "      <td>0.051267</td>\n",
              "      <td>0.69956</td>\n",
              "      <td>1</td>\n",
              "    </tr>\n",
              "    <tr>\n",
              "      <th>1</th>\n",
              "      <td>-0.092742</td>\n",
              "      <td>0.68494</td>\n",
              "      <td>1</td>\n",
              "    </tr>\n",
              "    <tr>\n",
              "      <th>2</th>\n",
              "      <td>-0.213710</td>\n",
              "      <td>0.69225</td>\n",
              "      <td>1</td>\n",
              "    </tr>\n",
              "    <tr>\n",
              "      <th>3</th>\n",
              "      <td>-0.375000</td>\n",
              "      <td>0.50219</td>\n",
              "      <td>1</td>\n",
              "    </tr>\n",
              "    <tr>\n",
              "      <th>4</th>\n",
              "      <td>-0.513250</td>\n",
              "      <td>0.46564</td>\n",
              "      <td>1</td>\n",
              "    </tr>\n",
              "  </tbody>\n",
              "</table>\n",
              "</div>\n",
              "      <button class=\"colab-df-convert\" onclick=\"convertToInteractive('df-f9394f3a-880b-4df7-9b1f-683f9ca399aa')\"\n",
              "              title=\"Convert this dataframe to an interactive table.\"\n",
              "              style=\"display:none;\">\n",
              "        \n",
              "  <svg xmlns=\"http://www.w3.org/2000/svg\" height=\"24px\"viewBox=\"0 0 24 24\"\n",
              "       width=\"24px\">\n",
              "    <path d=\"M0 0h24v24H0V0z\" fill=\"none\"/>\n",
              "    <path d=\"M18.56 5.44l.94 2.06.94-2.06 2.06-.94-2.06-.94-.94-2.06-.94 2.06-2.06.94zm-11 1L8.5 8.5l.94-2.06 2.06-.94-2.06-.94L8.5 2.5l-.94 2.06-2.06.94zm10 10l.94 2.06.94-2.06 2.06-.94-2.06-.94-.94-2.06-.94 2.06-2.06.94z\"/><path d=\"M17.41 7.96l-1.37-1.37c-.4-.4-.92-.59-1.43-.59-.52 0-1.04.2-1.43.59L10.3 9.45l-7.72 7.72c-.78.78-.78 2.05 0 2.83L4 21.41c.39.39.9.59 1.41.59.51 0 1.02-.2 1.41-.59l7.78-7.78 2.81-2.81c.8-.78.8-2.07 0-2.86zM5.41 20L4 18.59l7.72-7.72 1.47 1.35L5.41 20z\"/>\n",
              "  </svg>\n",
              "      </button>\n",
              "      \n",
              "  <style>\n",
              "    .colab-df-container {\n",
              "      display:flex;\n",
              "      flex-wrap:wrap;\n",
              "      gap: 12px;\n",
              "    }\n",
              "\n",
              "    .colab-df-convert {\n",
              "      background-color: #E8F0FE;\n",
              "      border: none;\n",
              "      border-radius: 50%;\n",
              "      cursor: pointer;\n",
              "      display: none;\n",
              "      fill: #1967D2;\n",
              "      height: 32px;\n",
              "      padding: 0 0 0 0;\n",
              "      width: 32px;\n",
              "    }\n",
              "\n",
              "    .colab-df-convert:hover {\n",
              "      background-color: #E2EBFA;\n",
              "      box-shadow: 0px 1px 2px rgba(60, 64, 67, 0.3), 0px 1px 3px 1px rgba(60, 64, 67, 0.15);\n",
              "      fill: #174EA6;\n",
              "    }\n",
              "\n",
              "    [theme=dark] .colab-df-convert {\n",
              "      background-color: #3B4455;\n",
              "      fill: #D2E3FC;\n",
              "    }\n",
              "\n",
              "    [theme=dark] .colab-df-convert:hover {\n",
              "      background-color: #434B5C;\n",
              "      box-shadow: 0px 1px 3px 1px rgba(0, 0, 0, 0.15);\n",
              "      filter: drop-shadow(0px 1px 2px rgba(0, 0, 0, 0.3));\n",
              "      fill: #FFFFFF;\n",
              "    }\n",
              "  </style>\n",
              "\n",
              "      <script>\n",
              "        const buttonEl =\n",
              "          document.querySelector('#df-f9394f3a-880b-4df7-9b1f-683f9ca399aa button.colab-df-convert');\n",
              "        buttonEl.style.display =\n",
              "          google.colab.kernel.accessAllowed ? 'block' : 'none';\n",
              "\n",
              "        async function convertToInteractive(key) {\n",
              "          const element = document.querySelector('#df-f9394f3a-880b-4df7-9b1f-683f9ca399aa');\n",
              "          const dataTable =\n",
              "            await google.colab.kernel.invokeFunction('convertToInteractive',\n",
              "                                                     [key], {});\n",
              "          if (!dataTable) return;\n",
              "\n",
              "          const docLinkHtml = 'Like what you see? Visit the ' +\n",
              "            '<a target=\"_blank\" href=https://colab.research.google.com/notebooks/data_table.ipynb>data table notebook</a>'\n",
              "            + ' to learn more about interactive tables.';\n",
              "          element.innerHTML = '';\n",
              "          dataTable['output_type'] = 'display_data';\n",
              "          await google.colab.output.renderOutput(dataTable, element);\n",
              "          const docLink = document.createElement('div');\n",
              "          docLink.innerHTML = docLinkHtml;\n",
              "          element.appendChild(docLink);\n",
              "        }\n",
              "      </script>\n",
              "    </div>\n",
              "  </div>\n",
              "  "
            ]
          },
          "metadata": {},
          "execution_count": 325
        }
      ],
      "source": [
        "#load data set from a csv file\n",
        "# csv لود کردن داده های موجود از یک فایل\n",
        "# در اولین مرحله فایل مربوط به دیتای بخش دوم را آپلود کنید\n",
        "#import pandas libaray for reading a csv file\n",
        "# به برنامه pandas اضافه کردن کتابخونه\n",
        "import pandas as pd\n",
        "\n",
        "#read data from project2-data2.csv file\n",
        "#داده ها را از فایل مشخص شده بخوانید\n",
        "data2 = pd.read_csv(\"/content/project3data2.csv\")\n",
        "\n",
        "#show a summary of data\n",
        "#نمایش خلاصه ای از داده ها\n",
        "data2.head()"
      ]
    },
    {
      "cell_type": "code",
      "source": [
        "data2.tail"
      ],
      "metadata": {
        "colab": {
          "base_uri": "https://localhost:8080/"
        },
        "id": "GPuOFGEORLss",
        "outputId": "601f91d5-a9f9-4e0e-b1b7-bd5eb013aeb3"
      },
      "execution_count": null,
      "outputs": [
        {
          "output_type": "execute_result",
          "data": {
            "text/plain": [
              "<bound method NDFrame.tail of         test1     test2  Quality\n",
              "0    0.051267  0.699560        1\n",
              "1   -0.092742  0.684940        1\n",
              "2   -0.213710  0.692250        1\n",
              "3   -0.375000  0.502190        1\n",
              "4   -0.513250  0.465640        1\n",
              "..        ...       ...      ...\n",
              "113 -0.720620  0.538740        0\n",
              "114 -0.593890  0.494880        0\n",
              "115 -0.484450  0.999270        0\n",
              "116 -0.006336  0.999270        0\n",
              "117  0.632650 -0.030612        0\n",
              "\n",
              "[118 rows x 3 columns]>"
            ]
          },
          "metadata": {},
          "execution_count": 349
        }
      ]
    },
    {
      "cell_type": "code",
      "source": [
        "#split the data into input X and output Y\n",
        "#داده ها ی ورودی و خروجی را در دو متغیر جدا میریزیم\n",
        "#input feature\n",
        "X = data2.values[:, 0:2]\n",
        "\n",
        "#output\n",
        "Y = data2.values[:, 2]\n",
        "\n",
        "#find m\n",
        "m = Y.shape[0]\n"
      ],
      "metadata": {
        "id": "LzpnWw1VIoFH"
      },
      "execution_count": null,
      "outputs": []
    },
    {
      "cell_type": "code",
      "source": [
        "#with the function below u can create polynomial features\n",
        "#keep in mind that this function adds x0 so we dont need to do it later\n",
        "#راه اضافه میکند x0 دقت کنید که این تابع\n",
        "\n",
        "def mapFeature(X, degree=6):\n",
        "    X1 = X[:,0]\n",
        "    X2 = X[:,1]\n",
        "    if X1.ndim > 0:\n",
        "        out = [np.ones(X1.shape[0])]\n",
        "    else:\n",
        "        out = [np.ones(1)]\n",
        "\n",
        "    for i in range(1, degree + 1):\n",
        "        for j in range(i + 1):\n",
        "            out.append((X1 ** (i - j)) * (X2 ** j))\n",
        "\n",
        "    if X1.ndim > 0:\n",
        "        return np.stack(out, axis=1)\n",
        "    else:\n",
        "        return np.array(out)"
      ],
      "metadata": {
        "id": "6AR8ilMNPNKZ"
      },
      "execution_count": null,
      "outputs": []
    },
    {
      "cell_type": "code",
      "source": [
        "#call mapFeature with degree=6 to create new features\n",
        "X = mapFeature(X, 6)\n",
        "print(X.shape)"
      ],
      "metadata": {
        "colab": {
          "base_uri": "https://localhost:8080/"
        },
        "outputId": "9da4dd60-7e6c-4126-d9d6-ec13d8528509",
        "id": "tI1x1poAPYPx"
      },
      "execution_count": null,
      "outputs": [
        {
          "output_type": "stream",
          "name": "stdout",
          "text": [
            "(118, 28)\n"
          ]
        }
      ]
    },
    {
      "cell_type": "code",
      "source": [
        "#print shapes of X and Y\n",
        "print(\"shape of X:\", X.shape)\n",
        "print(\"shape of Y:\", Y.shape)\n"
      ],
      "metadata": {
        "colab": {
          "base_uri": "https://localhost:8080/"
        },
        "outputId": "5ce97d8a-59af-48f0-d457-66233252e88f",
        "id": "xtG7-x17PYP7"
      },
      "execution_count": null,
      "outputs": [
        {
          "output_type": "stream",
          "name": "stdout",
          "text": [
            "shape of X: (118, 28)\n",
            "shape of Y: (118,)\n"
          ]
        }
      ]
    },
    {
      "cell_type": "code",
      "source": [
        "from sklearn import linear_model\n",
        "\n",
        "model = linear_model.LogisticRegression()\n",
        "model.fit(X, Y)"
      ],
      "metadata": {
        "id": "SqLE-T_DHFVA",
        "colab": {
          "base_uri": "https://localhost:8080/"
        },
        "outputId": "44619c53-516e-47ff-8466-ff3ee24f9296"
      },
      "execution_count": null,
      "outputs": [
        {
          "output_type": "execute_result",
          "data": {
            "text/plain": [
              "LogisticRegression()"
            ]
          },
          "metadata": {},
          "execution_count": 339
        }
      ]
    },
    {
      "cell_type": "code",
      "source": [
        "#predict for input test1=0.2 and test2= 0.8\n",
        "test1 = 0.25\n",
        "test2 = 0.25\n",
        "model.predict(mapFeature(np.array([test1, test2], ndmin=2)))"
      ],
      "metadata": {
        "id": "hjFl_NVtINQR",
        "colab": {
          "base_uri": "https://localhost:8080/"
        },
        "outputId": "9e2309ad-19e9-4f82-d3b6-a7aa358acab3"
      },
      "execution_count": null,
      "outputs": [
        {
          "output_type": "execute_result",
          "data": {
            "text/plain": [
              "array([1.])"
            ]
          },
          "metadata": {},
          "execution_count": 353
        }
      ]
    }
  ]
}