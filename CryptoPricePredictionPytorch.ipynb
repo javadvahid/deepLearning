{
  "nbformat": 4,
  "nbformat_minor": 0,
  "metadata": {
    "colab": {
      "name": "CryptoPricePredictionPytorch.ipynb",
      "provenance": [],
      "collapsed_sections": [],
      "authorship_tag": "ABX9TyOPJm6HleV7469hQpWP6Qbx",
      "include_colab_link": true
    },
    "kernelspec": {
      "name": "python3",
      "display_name": "Python 3"
    },
    "language_info": {
      "name": "python"
    }
  },
  "cells": [
    {
      "cell_type": "markdown",
      "metadata": {
        "id": "view-in-github",
        "colab_type": "text"
      },
      "source": [
        "<a href=\"https://colab.research.google.com/github/javadvahid/deepLearning/blob/main/CryptoPricePredictionPytorch.ipynb\" target=\"_parent\"><img src=\"https://colab.research.google.com/assets/colab-badge.svg\" alt=\"Open In Colab\"/></a>"
      ]
    },
    {
      "cell_type": "code",
      "metadata": {
        "id": "6ruSTIyfDgT5"
      },
      "source": [
        "import torch\n",
        "import torch.nn as nn\n",
        "import torch.optim as optim\n",
        "import pandas as pd\n",
        "import numpy as np\n",
        "from sklearn.preprocessing import MinMaxScaler\n",
        "import matplotlib.pyplot as plt"
      ],
      "execution_count": 1,
      "outputs": []
    },
    {
      "cell_type": "code",
      "metadata": {
        "id": "AT_YC6t0T0Om"
      },
      "source": [
        "#read data download from cryptodatadownload.com\n",
        "data = pd.read_csv(\"/content/Bitfinex_BTCUSD_d.csv\")"
      ],
      "execution_count": 2,
      "outputs": []
    },
    {
      "cell_type": "code",
      "metadata": {
        "colab": {
          "base_uri": "https://localhost:8080/",
          "height": 195
        },
        "id": "RF0Mhw-AWH_N",
        "outputId": "4c070c91-aefa-4be2-8628-5ce746a8dd01"
      },
      "source": [
        "data.head()\n"
      ],
      "execution_count": 3,
      "outputs": [
        {
          "output_type": "execute_result",
          "data": {
            "text/html": [
              "<div>\n",
              "<style scoped>\n",
              "    .dataframe tbody tr th:only-of-type {\n",
              "        vertical-align: middle;\n",
              "    }\n",
              "\n",
              "    .dataframe tbody tr th {\n",
              "        vertical-align: top;\n",
              "    }\n",
              "\n",
              "    .dataframe thead th {\n",
              "        text-align: right;\n",
              "    }\n",
              "</style>\n",
              "<table border=\"1\" class=\"dataframe\">\n",
              "  <thead>\n",
              "    <tr style=\"text-align: right;\">\n",
              "      <th></th>\n",
              "      <th>unix</th>\n",
              "      <th>date</th>\n",
              "      <th>symbol</th>\n",
              "      <th>open</th>\n",
              "      <th>high</th>\n",
              "      <th>low</th>\n",
              "      <th>close</th>\n",
              "      <th>Volume USD</th>\n",
              "      <th>Volume BTC</th>\n",
              "    </tr>\n",
              "  </thead>\n",
              "  <tbody>\n",
              "    <tr>\n",
              "      <th>0</th>\n",
              "      <td>1.423440e+09</td>\n",
              "      <td>2/9/2015 0:00</td>\n",
              "      <td>BTC/USD</td>\n",
              "      <td>224.22</td>\n",
              "      <td>225.00</td>\n",
              "      <td>215.40</td>\n",
              "      <td>220.61</td>\n",
              "      <td>6493501.42</td>\n",
              "      <td>29625.03</td>\n",
              "    </tr>\n",
              "    <tr>\n",
              "      <th>1</th>\n",
              "      <td>1.423526e+09</td>\n",
              "      <td>2/10/2015 0:00</td>\n",
              "      <td>BTC/USD</td>\n",
              "      <td>220.61</td>\n",
              "      <td>223.88</td>\n",
              "      <td>214.00</td>\n",
              "      <td>220.96</td>\n",
              "      <td>6402350.57</td>\n",
              "      <td>29268.95</td>\n",
              "    </tr>\n",
              "    <tr>\n",
              "      <th>2</th>\n",
              "      <td>1.423613e+09</td>\n",
              "      <td>2/11/2015 0:00</td>\n",
              "      <td>BTC/USD</td>\n",
              "      <td>220.96</td>\n",
              "      <td>224.40</td>\n",
              "      <td>218.10</td>\n",
              "      <td>219.19</td>\n",
              "      <td>4268986.79</td>\n",
              "      <td>19289.28</td>\n",
              "    </tr>\n",
              "    <tr>\n",
              "      <th>3</th>\n",
              "      <td>1.423699e+09</td>\n",
              "      <td>2/12/2015 0:00</td>\n",
              "      <td>BTC/USD</td>\n",
              "      <td>219.19</td>\n",
              "      <td>223.20</td>\n",
              "      <td>217.87</td>\n",
              "      <td>222.60</td>\n",
              "      <td>2468883.37</td>\n",
              "      <td>11190.65</td>\n",
              "    </tr>\n",
              "    <tr>\n",
              "      <th>4</th>\n",
              "      <td>1.423786e+09</td>\n",
              "      <td>2/13/2015 0:00</td>\n",
              "      <td>BTC/USD</td>\n",
              "      <td>222.39</td>\n",
              "      <td>241.76</td>\n",
              "      <td>221.46</td>\n",
              "      <td>236.00</td>\n",
              "      <td>6806972.89</td>\n",
              "      <td>29079.11</td>\n",
              "    </tr>\n",
              "  </tbody>\n",
              "</table>\n",
              "</div>"
            ],
            "text/plain": [
              "           unix            date   symbol  ...   close  Volume USD  Volume BTC\n",
              "0  1.423440e+09   2/9/2015 0:00  BTC/USD  ...  220.61  6493501.42    29625.03\n",
              "1  1.423526e+09  2/10/2015 0:00  BTC/USD  ...  220.96  6402350.57    29268.95\n",
              "2  1.423613e+09  2/11/2015 0:00  BTC/USD  ...  219.19  4268986.79    19289.28\n",
              "3  1.423699e+09  2/12/2015 0:00  BTC/USD  ...  222.60  2468883.37    11190.65\n",
              "4  1.423786e+09  2/13/2015 0:00  BTC/USD  ...  236.00  6806972.89    29079.11\n",
              "\n",
              "[5 rows x 9 columns]"
            ]
          },
          "metadata": {
            "tags": []
          },
          "execution_count": 3
        }
      ]
    },
    {
      "cell_type": "code",
      "metadata": {
        "id": "_ORvSGCvWKgD"
      },
      "source": [
        "#we only use the Close price of each day\n",
        "dataPrice = data.close"
      ],
      "execution_count": 4,
      "outputs": []
    },
    {
      "cell_type": "code",
      "metadata": {
        "colab": {
          "base_uri": "https://localhost:8080/"
        },
        "id": "JHbztR3iMM21",
        "outputId": "d4d581dc-70dc-4fb8-b440-eb5b88b324d8"
      },
      "source": [
        "dataPrice.shape"
      ],
      "execution_count": 5,
      "outputs": [
        {
          "output_type": "execute_result",
          "data": {
            "text/plain": [
              "(2339,)"
            ]
          },
          "metadata": {
            "tags": []
          },
          "execution_count": 5
        }
      ]
    },
    {
      "cell_type": "code",
      "metadata": {
        "id": "dyjkzP4ybb9N"
      },
      "source": [
        "#preparing train(80%) and test(20%) data\n",
        "idx = np.int(len(dataPrice)*0.8)\n",
        "dp_train = dataPrice[:idx].values # 80%  for train\n",
        "dp_test = dataPrice[idx:].values # 20%  for test"
      ],
      "execution_count": 6,
      "outputs": []
    },
    {
      "cell_type": "code",
      "metadata": {
        "id": "sP9548ZudBy6",
        "colab": {
          "base_uri": "https://localhost:8080/"
        },
        "outputId": "686c45aa-7555-4a11-ee2c-daa9f6f565e6"
      },
      "source": [
        "#scaling data to the range of [0 1]\n",
        "\n",
        "#finding the Min and the Max of data\n",
        "scaler = MinMaxScaler().fit(dataPrice.values.reshape(-1,1)) \n",
        "#transforming data using the Max and Min to the range of [0 1]. you can also do that in 1 step using MinMaxScaler().fit_transform(data)\n",
        "dp_train = scaler.transform(dp_train.reshape(-1,1)) \n",
        "print(dp_train.shape)\n",
        "#do the same for test dataset\n",
        "dp_test = scaler.transform(dp_test.reshape(-1,1))\n",
        "\n",
        "\n",
        "#creating X and Y for Train and Test\n",
        "nod = 20 #Number Of Days used for predicting the next day's price\n",
        "x_train = []\n",
        "y_train = []\n",
        "x_test = []\n",
        "y_test = []\n",
        "for i in range (len(dp_train) - nod):\n",
        "  x_train.append(dp_train[i:(i+nod)])\n",
        "  y_train.append(dp_train[i + nod])\n",
        "\n",
        "for j in range (len(dp_test) - nod):\n",
        "  x_test.append(dp_test[j:(j+nod)])\n",
        "  y_test.append(dp_test[j + nod])  \n",
        "\n",
        "\n",
        "\n",
        "# LSTM Layer in Pytorch get an input of size (N, L, H) when batch_first is True  \n",
        "x_train = torch.from_numpy(np.array(x_train).astype(np.float32)) \n",
        "y_train = torch.from_numpy(np.array(y_train).astype(np.float32))\n",
        "x_test = torch.from_numpy(np.array(x_test).astype(np.float32))"
      ],
      "execution_count": 7,
      "outputs": [
        {
          "output_type": "stream",
          "text": [
            "(1871, 1)\n"
          ],
          "name": "stdout"
        }
      ]
    },
    {
      "cell_type": "code",
      "metadata": {
        "id": "2frJwWwGnwBl"
      },
      "source": [
        "#add more layers to model\n",
        "class Model(nn.Module):\n",
        "  def __init__(self):\n",
        "    super(Model, self).__init__()\n",
        "    self.lstm1 = nn.LSTM(input_size = 1, hidden_size = 20, batch_first = True)\n",
        "    self.dropout = nn.Dropout(p=0.3)\n",
        "    self.linear1 = nn.Linear(20, 4)\n",
        "    self.linear2 = nn.Linear(4, 1)\n",
        "  def forward(self, x):\n",
        "    x, c = self.lstm1(x)\n",
        "    x = self.dropout(x)\n",
        "    x = self.linear1(x[:,-1,:])\n",
        "    x = self.linear2(x)\n",
        "    return x  "
      ],
      "execution_count": 8,
      "outputs": []
    },
    {
      "cell_type": "code",
      "metadata": {
        "colab": {
          "base_uri": "https://localhost:8080/"
        },
        "id": "BL07opJuAFbQ",
        "outputId": "8ff277dc-016b-47ce-c99f-105b43ecda12"
      },
      "source": [
        "model = Model()\n",
        "criterion = nn.MSELoss()\n",
        "optimizer = optim.Adam(model.parameters(), lr = 0.001)\n",
        "print(model)"
      ],
      "execution_count": 9,
      "outputs": [
        {
          "output_type": "stream",
          "text": [
            "Model(\n",
            "  (lstm1): LSTM(1, 20, batch_first=True)\n",
            "  (dropout): Dropout(p=0.3, inplace=False)\n",
            "  (linear1): Linear(in_features=20, out_features=4, bias=True)\n",
            "  (linear2): Linear(in_features=4, out_features=1, bias=True)\n",
            ")\n"
          ],
          "name": "stdout"
        }
      ]
    },
    {
      "cell_type": "code",
      "metadata": {
        "colab": {
          "base_uri": "https://localhost:8080/"
        },
        "id": "lh5W2rHDFLtZ",
        "outputId": "01c21ab9-8ea9-4853-ac81-7ff56533b08e"
      },
      "source": [
        "#train\n",
        "epochs = 3000\n",
        "for i in range(epochs):\n",
        "  model.zero_grad()\n",
        "  output = model(x_train)\n",
        "  loss = criterion(output, y_train)\n",
        "  if i % 20 == 0:\n",
        "        print(\"epoch {}   loss: {} \".format(i, loss.item()))\n",
        "  loss.backward()\n",
        "  optimizer.step()\n"
      ],
      "execution_count": 10,
      "outputs": [
        {
          "output_type": "stream",
          "text": [
            "epoch 0   loss: 0.016241542994976044 \n",
            "epoch 20   loss: 0.0042374636977910995 \n",
            "epoch 40   loss: 0.003982906229794025 \n",
            "epoch 60   loss: 0.0037330028135329485 \n",
            "epoch 80   loss: 0.00339742680080235 \n",
            "epoch 100   loss: 0.002534460509195924 \n",
            "epoch 120   loss: 0.0008142633596435189 \n",
            "epoch 140   loss: 0.0007658347021788359 \n",
            "epoch 160   loss: 0.0006824207957834005 \n",
            "epoch 180   loss: 0.0005984745803289115 \n",
            "epoch 200   loss: 0.0005586991901509464 \n",
            "epoch 220   loss: 0.0004920832579955459 \n",
            "epoch 240   loss: 0.0005100631387904286 \n",
            "epoch 260   loss: 0.0004202769778203219 \n",
            "epoch 280   loss: 0.00043632526649162173 \n",
            "epoch 300   loss: 0.00041250549838878214 \n",
            "epoch 320   loss: 0.0003612494620028883 \n",
            "epoch 340   loss: 0.0003383237053640187 \n",
            "epoch 360   loss: 0.00034648741711862385 \n",
            "epoch 380   loss: 0.00031851802486926317 \n",
            "epoch 400   loss: 0.0003053458349313587 \n",
            "epoch 420   loss: 0.00028831182862631977 \n",
            "epoch 440   loss: 0.00031104322988539934 \n",
            "epoch 460   loss: 0.00028034974820911884 \n",
            "epoch 480   loss: 0.0002473826752975583 \n",
            "epoch 500   loss: 0.00026070966850966215 \n",
            "epoch 520   loss: 0.0002525291929487139 \n",
            "epoch 540   loss: 0.0002485451113898307 \n",
            "epoch 560   loss: 0.00024900672724470496 \n",
            "epoch 580   loss: 0.00025296234525740147 \n",
            "epoch 600   loss: 0.0002378147910349071 \n",
            "epoch 620   loss: 0.00022005538630764931 \n",
            "epoch 640   loss: 0.00021300533262547106 \n",
            "epoch 660   loss: 0.00021628609101753682 \n",
            "epoch 680   loss: 0.0002290695847477764 \n",
            "epoch 700   loss: 0.00019634945783764124 \n",
            "epoch 720   loss: 0.00020371137361507863 \n",
            "epoch 740   loss: 0.00020127474272157997 \n",
            "epoch 760   loss: 0.00018594662833493203 \n",
            "epoch 780   loss: 0.00019454970606602728 \n",
            "epoch 800   loss: 0.00018129509408026934 \n",
            "epoch 820   loss: 0.0001997319341171533 \n",
            "epoch 840   loss: 0.00019964814418926835 \n",
            "epoch 860   loss: 0.00018047093180939555 \n",
            "epoch 880   loss: 0.00017723051132634282 \n",
            "epoch 900   loss: 0.00017986109014600515 \n",
            "epoch 920   loss: 0.00016342956223525107 \n",
            "epoch 940   loss: 0.0001517108757980168 \n",
            "epoch 960   loss: 0.0001590968604432419 \n",
            "epoch 980   loss: 0.00016451688134111464 \n",
            "epoch 1000   loss: 0.00016295062960125506 \n",
            "epoch 1020   loss: 0.000156513910042122 \n",
            "epoch 1040   loss: 0.00015910479123704135 \n",
            "epoch 1060   loss: 0.00015002337750047445 \n",
            "epoch 1080   loss: 0.0001618578826310113 \n",
            "epoch 1100   loss: 0.0001492703886469826 \n",
            "epoch 1120   loss: 0.0001441178610548377 \n",
            "epoch 1140   loss: 0.00014738121535629034 \n",
            "epoch 1160   loss: 0.00016382643661927432 \n",
            "epoch 1180   loss: 0.00014732863928657025 \n",
            "epoch 1200   loss: 0.0001398800523020327 \n",
            "epoch 1220   loss: 0.00013847720401827246 \n",
            "epoch 1240   loss: 0.0001425744703738019 \n",
            "epoch 1260   loss: 0.0001305766636505723 \n",
            "epoch 1280   loss: 0.00014089239994063973 \n",
            "epoch 1300   loss: 0.00013052221038378775 \n",
            "epoch 1320   loss: 0.00014252701657824218 \n",
            "epoch 1340   loss: 0.00013375988055486232 \n",
            "epoch 1360   loss: 0.00015184080984909087 \n",
            "epoch 1380   loss: 0.00013932000729255378 \n",
            "epoch 1400   loss: 0.00014117787941358984 \n",
            "epoch 1420   loss: 0.0001451323478249833 \n",
            "epoch 1440   loss: 0.0001388773525832221 \n",
            "epoch 1460   loss: 0.0001368233934044838 \n",
            "epoch 1480   loss: 0.00012034488463541493 \n",
            "epoch 1500   loss: 0.00014274036220740527 \n",
            "epoch 1520   loss: 0.00014393801393453032 \n",
            "epoch 1540   loss: 0.00013203373237047344 \n",
            "epoch 1560   loss: 0.00012401356070768088 \n",
            "epoch 1580   loss: 0.00012850374332629144 \n",
            "epoch 1600   loss: 0.00013756642874795943 \n",
            "epoch 1620   loss: 0.0001399460161337629 \n",
            "epoch 1640   loss: 0.00012796347436960787 \n",
            "epoch 1660   loss: 0.0001282261364394799 \n",
            "epoch 1680   loss: 0.00014519324759021401 \n",
            "epoch 1700   loss: 0.00012584522482939065 \n",
            "epoch 1720   loss: 0.00013516472245100886 \n",
            "epoch 1740   loss: 0.00012735162454191595 \n",
            "epoch 1760   loss: 0.00013608943845611066 \n",
            "epoch 1780   loss: 0.00012263536336831748 \n",
            "epoch 1800   loss: 0.0001181458865175955 \n",
            "epoch 1820   loss: 0.00012543371121864766 \n",
            "epoch 1840   loss: 0.00012108685041312128 \n",
            "epoch 1860   loss: 0.00011923266720259562 \n",
            "epoch 1880   loss: 0.00012517701543401927 \n",
            "epoch 1900   loss: 0.0001289498759433627 \n",
            "epoch 1920   loss: 0.00011645600898191333 \n",
            "epoch 1940   loss: 0.00012646317190956324 \n",
            "epoch 1960   loss: 0.00012347511074040085 \n",
            "epoch 1980   loss: 0.00013855608995072544 \n",
            "epoch 2000   loss: 0.00012463799794204533 \n",
            "epoch 2020   loss: 0.00011376055772416294 \n",
            "epoch 2040   loss: 0.00011692708358168602 \n",
            "epoch 2060   loss: 0.0001150789757957682 \n",
            "epoch 2080   loss: 0.000117543175292667 \n",
            "epoch 2100   loss: 0.00010897063475567847 \n",
            "epoch 2120   loss: 0.00011916595394723117 \n",
            "epoch 2140   loss: 0.00011723210627678782 \n",
            "epoch 2160   loss: 0.00011577126133488491 \n",
            "epoch 2180   loss: 0.00011282123887212947 \n",
            "epoch 2200   loss: 0.00011270472896285355 \n",
            "epoch 2220   loss: 0.0001169477982330136 \n",
            "epoch 2240   loss: 0.000113234571472276 \n",
            "epoch 2260   loss: 0.0001180131730507128 \n",
            "epoch 2280   loss: 0.00011945403093704954 \n",
            "epoch 2300   loss: 0.0001236868411069736 \n",
            "epoch 2320   loss: 0.0001187143789138645 \n",
            "epoch 2340   loss: 0.00011435043415986001 \n",
            "epoch 2360   loss: 0.0001159522871603258 \n",
            "epoch 2380   loss: 0.0001138639054261148 \n",
            "epoch 2400   loss: 0.00011965233716182411 \n",
            "epoch 2420   loss: 0.00011849108705064282 \n",
            "epoch 2440   loss: 0.00012142035848228261 \n",
            "epoch 2460   loss: 0.00011118521797470748 \n",
            "epoch 2480   loss: 0.00011032561451429501 \n",
            "epoch 2500   loss: 0.00012261104711797088 \n",
            "epoch 2520   loss: 0.00011322000500513241 \n",
            "epoch 2540   loss: 0.00012208512634970248 \n",
            "epoch 2560   loss: 0.00011533138604136184 \n",
            "epoch 2580   loss: 0.00011916305811610073 \n",
            "epoch 2600   loss: 0.00011114391963928938 \n",
            "epoch 2620   loss: 0.00011357444600434974 \n",
            "epoch 2640   loss: 0.00011578800331335515 \n",
            "epoch 2660   loss: 0.0001076222033589147 \n",
            "epoch 2680   loss: 0.00010667105379980057 \n",
            "epoch 2700   loss: 0.00012530088133644313 \n",
            "epoch 2720   loss: 0.00011578081466723233 \n",
            "epoch 2740   loss: 0.00013111568114254624 \n",
            "epoch 2760   loss: 0.00012059302389388904 \n",
            "epoch 2780   loss: 0.00010846227814909071 \n",
            "epoch 2800   loss: 0.00011673537665046751 \n",
            "epoch 2820   loss: 0.00011477874795673415 \n",
            "epoch 2840   loss: 0.00012275815242901444 \n",
            "epoch 2860   loss: 0.00011593466479098424 \n",
            "epoch 2880   loss: 0.00011947634629905224 \n",
            "epoch 2900   loss: 0.00012137833255110309 \n",
            "epoch 2920   loss: 0.00010533957538427785 \n",
            "epoch 2940   loss: 0.00011837205238407478 \n",
            "epoch 2960   loss: 0.00010741176083683968 \n",
            "epoch 2980   loss: 0.00011414215987315401 \n"
          ],
          "name": "stdout"
        }
      ]
    },
    {
      "cell_type": "code",
      "metadata": {
        "id": "ldG_D-RBXmNx"
      },
      "source": [
        ""
      ],
      "execution_count": null,
      "outputs": []
    },
    {
      "cell_type": "code",
      "metadata": {
        "id": "xaxt95WTOQz9",
        "colab": {
          "base_uri": "https://localhost:8080/",
          "height": 315
        },
        "outputId": "86446df9-5326-4fea-b92d-f6ef126e21ef"
      },
      "source": [
        "# test on training data\n",
        "\n",
        "Price = model(x_train)\n",
        "print(Price.shape)\n",
        "predPrice = scaler.inverse_transform(Price.detach().numpy().reshape(-1, 1))\n",
        "print(predPrice.shape)\n",
        "realPrice = scaler.inverse_transform(y_train)\n",
        "print(realPrice.shape)\n",
        "plt.plot(range(predPrice.shape[0]), predPrice, label='model Price')\n",
        "plt.plot(range(realPrice.shape[0]), realPrice, 'r', label='real Price')\n",
        "plt.legend()\n",
        "plt.show()"
      ],
      "execution_count": 11,
      "outputs": [
        {
          "output_type": "stream",
          "text": [
            "torch.Size([1851, 1])\n",
            "(1851, 1)\n",
            "(1851, 1)\n"
          ],
          "name": "stdout"
        },
        {
          "output_type": "display_data",
          "data": {
            "image/png": "[encoded data removed]",
            "text/plain": [
              "<Figure size 432x288 with 1 Axes>"
            ]
          },
          "metadata": {
            "tags": [],
            "needs_background": "light"
          }
        }
      ]
    },
    {
      "cell_type": "code",
      "metadata": {
        "colab": {
          "base_uri": "https://localhost:8080/",
          "height": 265
        },
        "id": "F_fAAx2YB6Hm",
        "outputId": "c5132039-1645-48bb-b628-4d199e41a5f5"
      },
      "source": [
        "# test\n",
        "model.eval() #to deactivate the dropout Layer\n",
        "predPrice = model(x_test)\n",
        "predPrice = scaler.inverse_transform(predPrice.detach().numpy().reshape(-1, 1))\n",
        "realPrice = scaler.inverse_transform(y_test)\n",
        "plt.plot(range(predPrice.shape[0]), predPrice, label='model Price')\n",
        "plt.plot(range(realPrice.shape[0]), realPrice, 'r', label='real Price')\n",
        "plt.legend()\n",
        "plt.savefig('btcprice.png')\n",
        "plt.show()\n"
      ],
      "execution_count": 13,
      "outputs": [
        {
          "output_type": "display_data",
          "data": {
            "image/png": "[encoded data removed]",
            "text/plain": [
              "<Figure size 432x288 with 1 Axes>"
            ]
          },
          "metadata": {
            "tags": [],
            "needs_background": "light"
          }
        }
      ]
    }
  ]
}