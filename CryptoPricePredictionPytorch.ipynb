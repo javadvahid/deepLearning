{
  "nbformat": 4,
  "nbformat_minor": 0,
  "metadata": {
    "colab": {
      "name": "CryptoPricePredictionPytorch.ipynb",
      "provenance": [],
      "collapsed_sections": [],
      "authorship_tag": "ABX9TyMRGtn9KI76spsFAaE9ynEJ",
      "include_colab_link": true
    },
    "kernelspec": {
      "name": "python3",
      "display_name": "Python 3"
    },
    "language_info": {
      "name": "python"
    }
  },
  "cells": [
    {
      "cell_type": "markdown",
      "metadata": {
        "id": "view-in-github",
        "colab_type": "text"
      },
      "source": [
        "<a href=\"https://colab.research.google.com/github/javadvahid/deepLearning/blob/main/CryptoPricePredictionPytorch.ipynb\" target=\"_parent\"><img src=\"https://colab.research.google.com/assets/colab-badge.svg\" alt=\"Open In Colab\"/></a>"
      ]
    },
    {
      "cell_type": "code",
      "metadata": {
        "id": "6ruSTIyfDgT5"
      },
      "source": [
        "import torch\n",
        "import torch.nn as nn\n",
        "import torch.optim as optim\n",
        "import pandas as pd\n",
        "import numpy as np\n",
        "from sklearn.preprocessing import MinMaxScaler\n",
        "import matplotlib.pyplot as plt"
      ],
      "execution_count": 1,
      "outputs": []
    },
    {
      "cell_type": "code",
      "metadata": {
        "id": "AT_YC6t0T0Om"
      },
      "source": [
        "#read data download from cryptodatadownload.com\n",
        "data = pd.read_csv(\"/content/Bitfinex_BTCUSD_d.csv\")"
      ],
      "execution_count": 2,
      "outputs": []
    },
    {
      "cell_type": "code",
      "metadata": {
        "colab": {
          "base_uri": "https://localhost:8080/",
          "height": 195
        },
        "id": "RF0Mhw-AWH_N",
        "outputId": "093bea3a-9681-4507-ebc3-868f7ae26d7e"
      },
      "source": [
        "data.head()\n"
      ],
      "execution_count": 3,
      "outputs": [
        {
          "output_type": "execute_result",
          "data": {
            "text/html": [
              "<div>\n",
              "<style scoped>\n",
              "    .dataframe tbody tr th:only-of-type {\n",
              "        vertical-align: middle;\n",
              "    }\n",
              "\n",
              "    .dataframe tbody tr th {\n",
              "        vertical-align: top;\n",
              "    }\n",
              "\n",
              "    .dataframe thead th {\n",
              "        text-align: right;\n",
              "    }\n",
              "</style>\n",
              "<table border=\"1\" class=\"dataframe\">\n",
              "  <thead>\n",
              "    <tr style=\"text-align: right;\">\n",
              "      <th></th>\n",
              "      <th>unix</th>\n",
              "      <th>date</th>\n",
              "      <th>symbol</th>\n",
              "      <th>open</th>\n",
              "      <th>high</th>\n",
              "      <th>low</th>\n",
              "      <th>close</th>\n",
              "      <th>Volume USD</th>\n",
              "      <th>Volume BTC</th>\n",
              "    </tr>\n",
              "  </thead>\n",
              "  <tbody>\n",
              "    <tr>\n",
              "      <th>0</th>\n",
              "      <td>1.423440e+09</td>\n",
              "      <td>2/9/2015 0:00</td>\n",
              "      <td>BTC/USD</td>\n",
              "      <td>224.22</td>\n",
              "      <td>225.00</td>\n",
              "      <td>215.40</td>\n",
              "      <td>220.61</td>\n",
              "      <td>6493501.42</td>\n",
              "      <td>29625.03</td>\n",
              "    </tr>\n",
              "    <tr>\n",
              "      <th>1</th>\n",
              "      <td>1.423526e+09</td>\n",
              "      <td>2/10/2015 0:00</td>\n",
              "      <td>BTC/USD</td>\n",
              "      <td>220.61</td>\n",
              "      <td>223.88</td>\n",
              "      <td>214.00</td>\n",
              "      <td>220.96</td>\n",
              "      <td>6402350.57</td>\n",
              "      <td>29268.95</td>\n",
              "    </tr>\n",
              "    <tr>\n",
              "      <th>2</th>\n",
              "      <td>1.423613e+09</td>\n",
              "      <td>2/11/2015 0:00</td>\n",
              "      <td>BTC/USD</td>\n",
              "      <td>220.96</td>\n",
              "      <td>224.40</td>\n",
              "      <td>218.10</td>\n",
              "      <td>219.19</td>\n",
              "      <td>4268986.79</td>\n",
              "      <td>19289.28</td>\n",
              "    </tr>\n",
              "    <tr>\n",
              "      <th>3</th>\n",
              "      <td>1.423699e+09</td>\n",
              "      <td>2/12/2015 0:00</td>\n",
              "      <td>BTC/USD</td>\n",
              "      <td>219.19</td>\n",
              "      <td>223.20</td>\n",
              "      <td>217.87</td>\n",
              "      <td>222.60</td>\n",
              "      <td>2468883.37</td>\n",
              "      <td>11190.65</td>\n",
              "    </tr>\n",
              "    <tr>\n",
              "      <th>4</th>\n",
              "      <td>1.423786e+09</td>\n",
              "      <td>2/13/2015 0:00</td>\n",
              "      <td>BTC/USD</td>\n",
              "      <td>222.39</td>\n",
              "      <td>241.76</td>\n",
              "      <td>221.46</td>\n",
              "      <td>236.00</td>\n",
              "      <td>6806972.89</td>\n",
              "      <td>29079.11</td>\n",
              "    </tr>\n",
              "  </tbody>\n",
              "</table>\n",
              "</div>"
            ],
            "text/plain": [
              "           unix            date   symbol  ...   close  Volume USD  Volume BTC\n",
              "0  1.423440e+09   2/9/2015 0:00  BTC/USD  ...  220.61  6493501.42    29625.03\n",
              "1  1.423526e+09  2/10/2015 0:00  BTC/USD  ...  220.96  6402350.57    29268.95\n",
              "2  1.423613e+09  2/11/2015 0:00  BTC/USD  ...  219.19  4268986.79    19289.28\n",
              "3  1.423699e+09  2/12/2015 0:00  BTC/USD  ...  222.60  2468883.37    11190.65\n",
              "4  1.423786e+09  2/13/2015 0:00  BTC/USD  ...  236.00  6806972.89    29079.11\n",
              "\n",
              "[5 rows x 9 columns]"
            ]
          },
          "metadata": {
            "tags": []
          },
          "execution_count": 3
        }
      ]
    },
    {
      "cell_type": "code",
      "metadata": {
        "id": "_ORvSGCvWKgD"
      },
      "source": [
        "#we only use the Close price of each day\n",
        "dataPrice = data.close"
      ],
      "execution_count": 4,
      "outputs": []
    },
    {
      "cell_type": "code",
      "metadata": {
        "id": "dyjkzP4ybb9N"
      },
      "source": [
        "#preparing train(80%) and test(20%) data\n",
        "idx = np.int(len(dataPrice)*0.8)\n",
        "dp_train = dataPrice[:idx].values # 80%  for train\n",
        "dp_test = dataPrice[idx:].values # 20%  for test"
      ],
      "execution_count": 5,
      "outputs": []
    },
    {
      "cell_type": "code",
      "metadata": {
        "id": "sP9548ZudBy6",
        "colab": {
          "base_uri": "https://localhost:8080/"
        },
        "outputId": "5c3aa2b1-1152-4ff2-e65f-4358aeaddb39"
      },
      "source": [
        "#scaling data to the range of [0 1]\n",
        "\n",
        "#finding the Min and the Max of data\n",
        "scaler = MinMaxScaler().fit(dataPrice.values.reshape(-1,1)) \n",
        "#transforming data using the Max and Min to the range of [0 1]. you can also do that in 1 step using MinMaxScaler().fit_transform(data)\n",
        "dp_train = scaler.transform(dp_train.reshape(-1,1)) \n",
        "print(dp_train.shape)\n",
        "#do the same for test dataset\n",
        "dp_test = scaler.transform(dp_test.reshape(-1,1))\n",
        "\n",
        "\n",
        "#creating X and Y for Train and Test\n",
        "nod = 20 #Number Of Days used for predicting the next day's price\n",
        "x_train = []\n",
        "y_train = []\n",
        "x_test = []\n",
        "y_test = []\n",
        "for i in range (len(dp_train) - nod):\n",
        "  x_train.append(dp_train[i:(i+nod)])\n",
        "  y_train.append(dp_train[i + nod])\n",
        "\n",
        "for j in range (len(dp_test) - nod):\n",
        "  x_test.append(dp_test[j:(j+nod)])\n",
        "  y_test.append(dp_test[j + nod])  \n",
        "\n",
        "batch_size = 1\n",
        "\n",
        "# LSTM Layer in Pytorch get an input of size (L, N, H) \n",
        "x_train = torch.from_numpy(np.array(x_train).squeeze().astype(np.float32)) \n",
        "y_train = torch.from_numpy(np.array(y_train).astype(np.float32))\n",
        "x_test = torch.from_numpy(np.array(x_test).squeeze().astype(np.float32))"
      ],
      "execution_count": 6,
      "outputs": [
        {
          "output_type": "stream",
          "text": [
            "(1871, 1)\n"
          ],
          "name": "stdout"
        }
      ]
    },
    {
      "cell_type": "code",
      "metadata": {
        "id": "2frJwWwGnwBl"
      },
      "source": [
        "#add more layers to model\n",
        "class Model(nn.Module):\n",
        "  def __init__(self):\n",
        "    super(Model, self).__init__()\n",
        "    self.lstm1 = nn.LSTM(input_size = 20, hidden_size = 20)\n",
        "    self.dropout = nn.Dropout(p=0.3)\n",
        "    self.linear1 = nn.Linear(20, 4)\n",
        "    self.linear2 = nn.Linear(4, 1)\n",
        "  def forward(self, x):\n",
        "    xbatch = x.view(len(x), 1, -1) \n",
        "    x, c = self.lstm1(xbatch)\n",
        "    x = self.dropout(x)\n",
        "    x = self.linear1(x)\n",
        "    x = self.linear2(x)\n",
        "    return x  "
      ],
      "execution_count": 12,
      "outputs": []
    },
    {
      "cell_type": "code",
      "metadata": {
        "colab": {
          "base_uri": "https://localhost:8080/"
        },
        "id": "BL07opJuAFbQ",
        "outputId": "c6f5a374-a4d8-48c5-de12-224244448db2"
      },
      "source": [
        "model = Model()\n",
        "criterion = nn.MSELoss()\n",
        "optimizer = optim.Adam(model.parameters(), lr = 0.001)\n",
        "print(model)"
      ],
      "execution_count": 13,
      "outputs": [
        {
          "output_type": "stream",
          "text": [
            "Model(\n",
            "  (lstm1): LSTM(20, 20)\n",
            "  (dropout): Dropout(p=0.2, inplace=False)\n",
            "  (linear1): Linear(in_features=20, out_features=4, bias=True)\n",
            "  (linear2): Linear(in_features=4, out_features=1, bias=True)\n",
            ")\n"
          ],
          "name": "stdout"
        }
      ]
    },
    {
      "cell_type": "code",
      "metadata": {
        "colab": {
          "base_uri": "https://localhost:8080/"
        },
        "id": "lh5W2rHDFLtZ",
        "outputId": "90f06beb-f9f0-4a26-f11a-e1796e05b5d3"
      },
      "source": [
        "#train\n",
        "epochs = 500\n",
        "for i in range(epochs):\n",
        "  model.zero_grad()\n",
        "  output = model(x_train)\n",
        "  loss = criterion(output.view(-1,1), y_train)\n",
        "  if i % 20 == 0:\n",
        "        print(\"epoch {}   loss: {} \".format(i, loss.item()))\n",
        "  loss.backward()\n",
        "  optimizer.step()\n"
      ],
      "execution_count": 14,
      "outputs": [
        {
          "output_type": "stream",
          "text": [
            "epoch 0   loss: 0.0031084720976650715 \n",
            "epoch 20   loss: 0.0005626624333672225 \n",
            "epoch 40   loss: 0.00035847563412971795 \n",
            "epoch 60   loss: 0.0003226614207960665 \n",
            "epoch 80   loss: 0.00028318495606072247 \n",
            "epoch 100   loss: 0.00026951200561597943 \n",
            "epoch 120   loss: 0.0002407474967185408 \n",
            "epoch 140   loss: 0.00023417729244101793 \n",
            "epoch 160   loss: 0.00022108113626018167 \n",
            "epoch 180   loss: 0.00019833196711260825 \n",
            "epoch 200   loss: 0.00017757252498995513 \n",
            "epoch 220   loss: 0.00018210102280136198 \n",
            "epoch 240   loss: 0.00017145775200333446 \n",
            "epoch 260   loss: 0.00017157912952825427 \n",
            "epoch 280   loss: 0.00015752807667013258 \n",
            "epoch 300   loss: 0.00015074561815708876 \n",
            "epoch 320   loss: 0.0001384244387736544 \n",
            "epoch 340   loss: 0.00013825406495016068 \n",
            "epoch 360   loss: 0.00013009745453018695 \n",
            "epoch 380   loss: 0.00013006519293412566 \n",
            "epoch 400   loss: 0.00013315788237378 \n",
            "epoch 420   loss: 0.0001186276349471882 \n",
            "epoch 440   loss: 0.00011870390881085768 \n",
            "epoch 460   loss: 0.00011212634854018688 \n",
            "epoch 480   loss: 0.00010598779772408307 \n"
          ],
          "name": "stdout"
        }
      ]
    },
    {
      "cell_type": "code",
      "metadata": {
        "id": "xaxt95WTOQz9",
        "colab": {
          "base_uri": "https://localhost:8080/",
          "height": 265
        },
        "outputId": "0b0c7c7d-9b46-4073-e42f-2edf89cd3de1"
      },
      "source": [
        "# test on training data\n",
        "\n",
        "Price = model(x_train)\n",
        "\n",
        "predPrice = scaler.inverse_transform(Price.detach().numpy().reshape(-1, 1))\n",
        "realPrice = scaler.inverse_transform(y_train)\n",
        "plt.plot(range(predPrice.shape[0]), predPrice, label='model Price')\n",
        "plt.plot(range(realPrice.shape[0]), realPrice, 'r', label='real Price')\n",
        "plt.legend()\n",
        "plt.show()"
      ],
      "execution_count": 15,
      "outputs": [
        {
          "output_type": "display_data",
          "data": {
            "image/png": "[encoded data removed]",
            "text/plain": [
              "<Figure size 432x288 with 1 Axes>"
            ]
          },
          "metadata": {
            "tags": [],
            "needs_background": "light"
          }
        }
      ]
    },
    {
      "cell_type": "code",
      "metadata": {
        "colab": {
          "base_uri": "https://localhost:8080/",
          "height": 265
        },
        "id": "F_fAAx2YB6Hm",
        "outputId": "84851e1e-3a49-40cd-c9dc-0700d3d8514d"
      },
      "source": [
        "# test\n",
        "model.eval() #to deactivate the dropout Layer\n",
        "predPrice = model(x_test)\n",
        "#print(predPrice)\n",
        "predPrice = scaler.inverse_transform(predPrice.detach().numpy().reshape(-1, 1))\n",
        "realPrice = scaler.inverse_transform(y_test)\n",
        "plt.plot(range(predPrice.shape[0]), predPrice, label='model Price')\n",
        "plt.plot(range(realPrice.shape[0]), realPrice, 'r', label='real Price')\n",
        "plt.legend()\n",
        "plt.savefig('btcprice.png')\n",
        "plt.show()\n"
      ],
      "execution_count": 26,
      "outputs": [
        {
          "output_type": "display_data",
          "data": {
            "image/png": "[encoded data removed]",
            "text/plain": [
              "<Figure size 432x288 with 1 Axes>"
            ]
          },
          "metadata": {
            "tags": [],
            "needs_background": "light"
          }
        }
      ]
    }
  ]
}