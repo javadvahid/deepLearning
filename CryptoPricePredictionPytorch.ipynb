{
  "nbformat": 4,
  "nbformat_minor": 0,
  "metadata": {
    "colab": {
      "name": "CryptoPricePredictionPytorch.ipynb",
      "provenance": [],
      "collapsed_sections": [],
      "authorship_tag": "ABX9TyNVu+HS/AaNOZYSUWQ9+t8W",
      "include_colab_link": true
    },
    "kernelspec": {
      "name": "python3",
      "display_name": "Python 3"
    },
    "language_info": {
      "name": "python"
    }
  },
  "cells": [
    {
      "cell_type": "markdown",
      "metadata": {
        "id": "view-in-github",
        "colab_type": "text"
      },
      "source": [
        "<a href=\"https://colab.research.google.com/github/javadvahid/deepLearning/blob/main/CryptoPricePredictionPytorch.ipynb\" target=\"_parent\"><img src=\"https://colab.research.google.com/assets/colab-badge.svg\" alt=\"Open In Colab\"/></a>"
      ]
    },
    {
      "cell_type": "code",
      "metadata": {
        "id": "6ruSTIyfDgT5"
      },
      "source": [
        "import torch\n",
        "import torch.nn as nn\n",
        "import torch.optim as optim\n",
        "import pandas as pd\n",
        "import numpy as np\n",
        "from sklearn.preprocessing import MinMaxScaler"
      ],
      "execution_count": null,
      "outputs": []
    },
    {
      "cell_type": "code",
      "metadata": {
        "id": "AT_YC6t0T0Om"
      },
      "source": [
        "#read data download from cryptodatadownload.com\n",
        "data = pd.read_csv(\"/content/Bitfinex_BTCUSD_d.csv\")"
      ],
      "execution_count": null,
      "outputs": []
    },
    {
      "cell_type": "code",
      "metadata": {
        "colab": {
          "base_uri": "https://localhost:8080/",
          "height": 195
        },
        "id": "RF0Mhw-AWH_N",
        "outputId": "b139eb94-bdc8-4b82-8d55-30dad52aa1e8"
      },
      "source": [
        "data.head()\n"
      ],
      "execution_count": null,
      "outputs": [
        {
          "output_type": "execute_result",
          "data": {
            "text/html": [
              "<div>\n",
              "<style scoped>\n",
              "    .dataframe tbody tr th:only-of-type {\n",
              "        vertical-align: middle;\n",
              "    }\n",
              "\n",
              "    .dataframe tbody tr th {\n",
              "        vertical-align: top;\n",
              "    }\n",
              "\n",
              "    .dataframe thead th {\n",
              "        text-align: right;\n",
              "    }\n",
              "</style>\n",
              "<table border=\"1\" class=\"dataframe\">\n",
              "  <thead>\n",
              "    <tr style=\"text-align: right;\">\n",
              "      <th></th>\n",
              "      <th>unix</th>\n",
              "      <th>date</th>\n",
              "      <th>symbol</th>\n",
              "      <th>open</th>\n",
              "      <th>high</th>\n",
              "      <th>low</th>\n",
              "      <th>close</th>\n",
              "      <th>Volume USD</th>\n",
              "      <th>Volume BTC</th>\n",
              "    </tr>\n",
              "  </thead>\n",
              "  <tbody>\n",
              "    <tr>\n",
              "      <th>0</th>\n",
              "      <td>1.625440e+12</td>\n",
              "      <td>7/5/2021 0:00</td>\n",
              "      <td>BTC/USD</td>\n",
              "      <td>35278.00000</td>\n",
              "      <td>35280.0</td>\n",
              "      <td>34851.0</td>\n",
              "      <td>34913.00000</td>\n",
              "      <td>8.843958e+06</td>\n",
              "      <td>253.314189</td>\n",
              "    </tr>\n",
              "    <tr>\n",
              "      <th>1</th>\n",
              "      <td>1.625360e+12</td>\n",
              "      <td>7/4/2021 0:00</td>\n",
              "      <td>BTC/USD</td>\n",
              "      <td>34689.00000</td>\n",
              "      <td>35950.0</td>\n",
              "      <td>34376.0</td>\n",
              "      <td>35276.00000</td>\n",
              "      <td>1.033442e+08</td>\n",
              "      <td>2929.589307</td>\n",
              "    </tr>\n",
              "    <tr>\n",
              "      <th>2</th>\n",
              "      <td>1.625270e+12</td>\n",
              "      <td>7/3/2021 0:00</td>\n",
              "      <td>BTC/USD</td>\n",
              "      <td>33818.00000</td>\n",
              "      <td>34948.0</td>\n",
              "      <td>33350.0</td>\n",
              "      <td>34682.00000</td>\n",
              "      <td>1.028887e+08</td>\n",
              "      <td>2966.629686</td>\n",
              "    </tr>\n",
              "    <tr>\n",
              "      <th>3</th>\n",
              "      <td>1.625180e+12</td>\n",
              "      <td>7/2/2021 0:00</td>\n",
              "      <td>BTC/USD</td>\n",
              "      <td>33519.46745</td>\n",
              "      <td>33983.0</td>\n",
              "      <td>32700.0</td>\n",
              "      <td>33816.00000</td>\n",
              "      <td>1.739982e+08</td>\n",
              "      <td>5145.439921</td>\n",
              "    </tr>\n",
              "    <tr>\n",
              "      <th>4</th>\n",
              "      <td>1.625100e+12</td>\n",
              "      <td>7/1/2021 0:00</td>\n",
              "      <td>BTC/USD</td>\n",
              "      <td>35062.00000</td>\n",
              "      <td>35069.0</td>\n",
              "      <td>32720.0</td>\n",
              "      <td>33554.42277</td>\n",
              "      <td>1.920285e+08</td>\n",
              "      <td>5722.895795</td>\n",
              "    </tr>\n",
              "  </tbody>\n",
              "</table>\n",
              "</div>"
            ],
            "text/plain": [
              "           unix           date   symbol  ...        close    Volume USD   Volume BTC\n",
              "0  1.625440e+12  7/5/2021 0:00  BTC/USD  ...  34913.00000  8.843958e+06   253.314189\n",
              "1  1.625360e+12  7/4/2021 0:00  BTC/USD  ...  35276.00000  1.033442e+08  2929.589307\n",
              "2  1.625270e+12  7/3/2021 0:00  BTC/USD  ...  34682.00000  1.028887e+08  2966.629686\n",
              "3  1.625180e+12  7/2/2021 0:00  BTC/USD  ...  33816.00000  1.739982e+08  5145.439921\n",
              "4  1.625100e+12  7/1/2021 0:00  BTC/USD  ...  33554.42277  1.920285e+08  5722.895795\n",
              "\n",
              "[5 rows x 9 columns]"
            ]
          },
          "metadata": {
            "tags": []
          },
          "execution_count": 32
        }
      ]
    },
    {
      "cell_type": "code",
      "metadata": {
        "id": "_ORvSGCvWKgD"
      },
      "source": [
        "#we only use the Close price of each day\n",
        "dataPrice = data.close"
      ],
      "execution_count": null,
      "outputs": []
    },
    {
      "cell_type": "code",
      "metadata": {
        "id": "dyjkzP4ybb9N"
      },
      "source": [
        "#preparing train and test data\n",
        "dp_train = dataPrice[:1872].values # 80% of 2339 for train\n",
        "dp_test = dataPrice[1872:].values # 20% of 2339 for test"
      ],
      "execution_count": null,
      "outputs": []
    },
    {
      "cell_type": "code",
      "metadata": {
        "id": "sP9548ZudBy6",
        "colab": {
          "base_uri": "https://localhost:8080/"
        },
        "outputId": "709c19bf-2af6-42e4-9bad-f35ef18f3541"
      },
      "source": [
        "#scaling data to the range of [0 1]\n",
        "\n",
        "#finding the Min and the Max of data\n",
        "scaler = MinMaxScaler().fit(dataPrice.values.reshape(-1,1)) \n",
        "#transforming data using the Max and Min to the range of [0 1]. you can also do that in 1 step using MinMaxScaler().fit_transform(data)\n",
        "dp_train = scaler.transform(dp_train.reshape(-1,1)) \n",
        "print(dp_train.shape)\n",
        "#do the same for test dataset\n",
        "dp_test = scaler.transform(dp_test.reshape(-1,1))\n",
        "\n",
        "\n",
        "#creating X and Y for Train and Test\n",
        "nod = 20 #Number Of Days used for predicting the next day's price\n",
        "x_train = []\n",
        "y_train = []\n",
        "x_test = []\n",
        "y_test = []\n",
        "for i in range (len(dp_train) - nod):\n",
        "  x_train.append(dp_train[i:(i+nod)])\n",
        "  y_train.append(dp_train[i + nod])\n",
        "\n",
        "for j in range (len(dp_test) - nod):\n",
        "  x_test.append(dp_test[j:(j+nod)])\n",
        "  y_test.append(dp_test[j + nod])  \n",
        "\n",
        "batch_size = 1\n",
        "\n",
        "# LSTM Layer in Pytorch get an input of size (L, N, H) \n",
        "x_train = torch.from_numpy(np.array(x_train).squeeze().astype(np.float32)) \n",
        "y_train = torch.from_numpy(np.array(y_train).astype(np.float32))"
      ],
      "execution_count": null,
      "outputs": [
        {
          "output_type": "stream",
          "text": [
            "(1872, 1)\n"
          ],
          "name": "stdout"
        }
      ]
    },
    {
      "cell_type": "code",
      "metadata": {
        "colab": {
          "base_uri": "https://localhost:8080/"
        },
        "id": "fASOnQfUJ8Hu",
        "outputId": "e4b9f67b-ddec-4be4-f025-0708e940b48e"
      },
      "source": [
        "print(x_train.size())"
      ],
      "execution_count": null,
      "outputs": [
        {
          "output_type": "stream",
          "text": [
            "torch.Size([1852, 20])\n"
          ],
          "name": "stdout"
        }
      ]
    },
    {
      "cell_type": "code",
      "metadata": {
        "id": "RDXlca23jWeR"
      },
      "source": [
        ""
      ],
      "execution_count": null,
      "outputs": []
    },
    {
      "cell_type": "code",
      "metadata": {
        "id": "2frJwWwGnwBl"
      },
      "source": [
        "#model\n",
        "class Model(nn.Module):\n",
        "  def __init__(self):\n",
        "    super(Model, self).__init__()\n",
        "    self.lstm1 = nn.LSTM(input_size = 20, hidden_size = 10)\n",
        "    self.linear = nn.Linear(10, 1)\n",
        "\n",
        "  def forward(self, x):\n",
        "    xbatch = x.view(len(x), 1, -1) \n",
        "    x, c = self.lstm1(xbatch)\n",
        "    x = self.linear(x)\n",
        "    return x  "
      ],
      "execution_count": null,
      "outputs": []
    },
    {
      "cell_type": "code",
      "metadata": {
        "colab": {
          "base_uri": "https://localhost:8080/"
        },
        "id": "BL07opJuAFbQ",
        "outputId": "9857e71c-b970-4d1e-b7c9-eaaf531ff3c3"
      },
      "source": [
        "model = Model()\n",
        "criterion = nn.MSELoss()\n",
        "optimizer = optim.Adam(model.parameters(), lr = 0.001)\n",
        "print(model)"
      ],
      "execution_count": null,
      "outputs": [
        {
          "output_type": "stream",
          "text": [
            "Model(\n",
            "  (lstm1): LSTM(20, 10)\n",
            "  (linear): Linear(in_features=10, out_features=1, bias=True)\n",
            ")\n"
          ],
          "name": "stdout"
        }
      ]
    },
    {
      "cell_type": "code",
      "metadata": {
        "colab": {
          "base_uri": "https://localhost:8080/"
        },
        "id": "lh5W2rHDFLtZ",
        "outputId": "8b7c3741-fddc-4dc8-d431-0233f7d1db74"
      },
      "source": [
        "#train\n",
        "epochs = 1000\n",
        "for i in range(epochs):\n",
        "  model.zero_grad()\n",
        "  output = model(x_train)\n",
        "  loss = criterion(output, y_train)\n",
        "  if i % 20 == 0:\n",
        "        print(\"epoch {}   loss: {} \".format(i, loss.item()))\n",
        "  loss.backward()\n",
        "  optimizer.step()\n"
      ],
      "execution_count": null,
      "outputs": [
        {
          "output_type": "stream",
          "text": [
            "/usr/local/lib/python3.7/dist-packages/torch/nn/modules/loss.py:528: UserWarning: Using a target size (torch.Size([1852, 1])) that is different to the input size (torch.Size([1852, 1, 1])). This will likely lead to incorrect results due to broadcasting. Please ensure they have the same size.\n",
            "  return F.mse_loss(input, target, reduction=self.reduction)\n"
          ],
          "name": "stderr"
        },
        {
          "output_type": "stream",
          "text": [
            "epoch 0   loss: 0.04337636008858681 \n",
            "epoch 20   loss: 0.013367475010454655 \n",
            "epoch 40   loss: 0.0019406317733228207 \n",
            "epoch 60   loss: 1.2616384083230514e-05 \n",
            "epoch 80   loss: 4.399312092573382e-05 \n",
            "epoch 100   loss: 1.234092178492574e-05 \n",
            "epoch 120   loss: 1.2573450476338621e-05 \n",
            "epoch 140   loss: 1.2161594895587768e-05 \n",
            "epoch 160   loss: 1.2122308362449985e-05 \n",
            "epoch 180   loss: 1.210849586641416e-05 \n",
            "epoch 200   loss: 1.2093448276573326e-05 \n",
            "epoch 220   loss: 1.207856348628411e-05 \n",
            "epoch 240   loss: 1.2063001122442074e-05 \n",
            "epoch 260   loss: 1.2046723895764444e-05 \n",
            "epoch 280   loss: 1.2029814570269082e-05 \n",
            "epoch 300   loss: 1.2012234947178513e-05 \n",
            "epoch 320   loss: 1.1994072337984107e-05 \n",
            "epoch 340   loss: 1.1975299457844812e-05 \n",
            "epoch 360   loss: 1.1955936315644067e-05 \n",
            "epoch 380   loss: 1.1936011105717625e-05 \n",
            "epoch 400   loss: 1.191555020341184e-05 \n",
            "epoch 420   loss: 1.1894534509337973e-05 \n",
            "epoch 440   loss: 1.1873029507114552e-05 \n",
            "epoch 460   loss: 1.1850998816953506e-05 \n",
            "epoch 480   loss: 1.1828497918031644e-05 \n",
            "epoch 500   loss: 1.180548861157149e-05 \n",
            "epoch 520   loss: 1.1782020010286942e-05 \n",
            "epoch 540   loss: 1.1758085747715086e-05 \n",
            "epoch 560   loss: 1.1733701285265852e-05 \n",
            "epoch 580   loss: 1.1708894817274995e-05 \n",
            "epoch 600   loss: 1.1683653610816691e-05 \n",
            "epoch 620   loss: 1.165798312285915e-05 \n",
            "epoch 640   loss: 1.1631914276222233e-05 \n",
            "epoch 660   loss: 1.1605422514548991e-05 \n",
            "epoch 680   loss: 1.1578562407521531e-05 \n",
            "epoch 700   loss: 1.1551294846867677e-05 \n",
            "epoch 720   loss: 1.1523672583280131e-05 \n",
            "epoch 740   loss: 1.1495654689497314e-05 \n",
            "epoch 760   loss: 1.1467308468127158e-05 \n",
            "epoch 780   loss: 1.1438581168476958e-05 \n",
            "epoch 800   loss: 1.1409511898818891e-05 \n",
            "epoch 820   loss: 1.1380074283806607e-05 \n",
            "epoch 840   loss: 1.135034290200565e-05 \n",
            "epoch 860   loss: 1.132028683059616e-05 \n",
            "epoch 880   loss: 1.1289880603726488e-05 \n",
            "epoch 900   loss: 1.1259145139774773e-05 \n",
            "epoch 920   loss: 1.1228136827412527e-05 \n",
            "epoch 940   loss: 1.119681019190466e-05 \n",
            "epoch 960   loss: 1.1165186151629314e-05 \n",
            "epoch 980   loss: 1.1133283805975225e-05 \n"
          ],
          "name": "stdout"
        }
      ]
    },
    {
      "cell_type": "code",
      "metadata": {
        "id": "xaxt95WTOQz9"
      },
      "source": [
        "# test\n",
        "\n",
        "price = model(x_test)"
      ],
      "execution_count": null,
      "outputs": []
    }
  ]
}